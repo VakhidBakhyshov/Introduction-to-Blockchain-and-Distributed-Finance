{
 "cells": [
  {
   "cell_type": "code",
   "execution_count": 74,
   "id": "78d3be6e",
   "metadata": {},
   "outputs": [
    {
     "data": {
      "text/plain": [
       "'e8d96f7719c9fd6fece74ae1ba1012a27cad3c7d682786ac49025c39b11fb077'"
      ]
     },
     "execution_count": 74,
     "metadata": {},
     "output_type": "execute_result"
    }
   ],
   "source": [
    "\n",
    "from blockchain import Transaction, Block, BlockchainPeer, BlockchainMainnet\n",
    "tr1 = Transaction(\n",
    "    sender_address = 'Alice',\n",
    "    recipient_address = 'Bob',\n",
    "    value = 10,\n",
    "    data = 'Hello Bob!')\n",
    "\n",
    "tr2 = Transaction(\n",
    "    sender_address = 'Bob',\n",
    "    recipient_address = 'Alice',\n",
    "    value = 5,\n",
    "    data = 'Hello Alice!')\n",
    "\n",
    "block1 = Block(\n",
    "    index = 4,\n",
    "    timestamp =  0,\n",
    "    previous_hash = '000e69bd96b65c00653b4c59a5ece2f187578928460675c8317e8f91c74f8243',\n",
    "    nonce = 0,\n",
    "    author =  'Satoshi',\n",
    "    transactions = [tr1,tr2])\n",
    "\n",
    "block1.compute_hash()\n",
    "\n",
    "\n"
   ]
  },
  {
   "cell_type": "code",
   "execution_count": null,
   "id": "4eb28de8",
   "metadata": {},
   "outputs": [],
   "source": []
  },
  {
   "cell_type": "code",
   "execution_count": null,
   "id": "4590e221",
   "metadata": {},
   "outputs": [],
   "source": []
  },
  {
   "cell_type": "markdown",
   "id": "a34aad8a",
   "metadata": {},
   "source": [
    "# 2 Задание\n"
   ]
  },
  {
   "cell_type": "code",
   "execution_count": 37,
   "id": "967fac22",
   "metadata": {},
   "outputs": [
    {
     "data": {
      "text/plain": [
       "'000f53dd44c6dd00a575e3f43b1a675812851a0df5d518555b026532f2772a32'"
      ]
     },
     "execution_count": 37,
     "metadata": {},
     "output_type": "execute_result"
    }
   ],
   "source": [
    "peer1 = BlockchainPeer('Satoshi')\n",
    "peer1.proof_of_work(block1)\n",
    "\n",
    "\n"
   ]
  },
  {
   "cell_type": "markdown",
   "id": "820fbe8e",
   "metadata": {},
   "source": [
    "# 3 Задание"
   ]
  },
  {
   "cell_type": "code",
   "execution_count": 38,
   "id": "5729c849",
   "metadata": {
    "scrolled": true
   },
   "outputs": [
    {
     "data": {
      "text/plain": [
       "{'length': 3,\n",
       " 'chain': [{'index': 0, 'transactions': [], 'author': 'Satoshi', 'timestamp': 0, 'previous_hash': '0', 'nonce': 7099, 'hash': '000162ecd764ac73c5367af8c9fa659bbf2a2e57684c0657d219327de59bcf70'},\n",
       "  {'index': 1, 'transactions': [{'sender_address': 'Alice', 'recipient_address': 'Bob', 'value': 10, 'data': 'Hello Bob!'}, {'sender_address': 'Bob', 'recipient_address': 'Alice', 'value': 5, 'data': 'Hello Alice!'}], 'author': 'Kek', 'timestamp': 1695472265.1913893, 'previous_hash': '000162ecd764ac73c5367af8c9fa659bbf2a2e57684c0657d219327de59bcf70', 'nonce': 3698, 'hash': '00008f9da457b917c97ec13ee63cd3477e7d2f7c2b8af4ca807a7df71b2960a2'},\n",
       "  {'index': 2, 'transactions': [{'sender_address': 'Alice', 'recipient_address': 'Bob', 'value': 10, 'data': 'Hello Bob!'}, {'sender_address': 'Bob', 'recipient_address': 'Alice', 'value': 5, 'data': 'Hello Alice!'}], 'author': 'Kek', 'timestamp': 1695472265.2855022, 'previous_hash': '00008f9da457b917c97ec13ee63cd3477e7d2f7c2b8af4ca807a7df71b2960a2', 'nonce': 2520, 'hash': '000fee06f0269d29268ed65153b63829e9a783773dc19866de7f028fb0fad66f'}]}"
      ]
     },
     "execution_count": 38,
     "metadata": {},
     "output_type": "execute_result"
    }
   ],
   "source": [
    "peer2 = BlockchainPeer('Kek')\n",
    "peer2.add_new_transaction(tr1)\n",
    "peer2.add_new_transaction(tr2)\n",
    "peer2.mine()\n",
    "\n",
    "peer2.add_new_transaction(tr1)\n",
    "peer2.add_new_transaction(tr2)\n",
    "peer2.mine()\n",
    "\n",
    "peer2._get_chain()\n",
    "\n"
   ]
  },
  {
   "cell_type": "markdown",
   "id": "30a84fa9",
   "metadata": {},
   "source": [
    "# Дело в том, что хэш блока зависит не только от транзакций, но и и от хэша предыдущего блока тоже. Поэтому в первом замайнином блоке мы используем хэш генезис-блока, а во втором уже хэш 1-го замайниного блока. Учитывая определение и свойства хэш-функции блоки имеют разные хэши"
   ]
  },
  {
   "cell_type": "markdown",
   "id": "6144fbdb",
   "metadata": {},
   "source": [
    "# 4 Задание"
   ]
  },
  {
   "cell_type": "code",
   "execution_count": 42,
   "id": "fd6db02d",
   "metadata": {
    "scrolled": true
   },
   "outputs": [
    {
     "data": {
      "text/plain": [
       "{'length': 101,\n",
       " 'chain': [{'index': 0, 'transactions': [], 'author': 'Satoshi', 'timestamp': 0, 'previous_hash': '0', 'nonce': 7099, 'hash': '000162ecd764ac73c5367af8c9fa659bbf2a2e57684c0657d219327de59bcf70'},\n",
       "  {'index': 1, 'transactions': [{'sender_address': 'Alice', 'recipient_address': 'Bob', 'value': 10, 'data': 'Hello Bob!'}, {'sender_address': 'Bob', 'recipient_address': 'Alice', 'value': 5, 'data': 'Hello Alice!'}, {'sender_address': 'Alice3', 'recipient_address': 'Bob3', 'value': 13, 'data': 'Hello Bob3!'}, {'sender_address': 'Alice4', 'recipient_address': 'Bob4', 'value': 14, 'data': 'Hello Bob4!'}, {'sender_address': 'Alice5', 'recipient_address': 'Bob5', 'value': 15, 'data': 'Hello Bob5!'}], 'author': 'Satoshi3', 'timestamp': 1695472584.4500175, 'previous_hash': '000162ecd764ac73c5367af8c9fa659bbf2a2e57684c0657d219327de59bcf70', 'nonce': 11618, 'hash': '000d8ccb381f449267083aece3a7bc09e5d841d889e6c224adf030f2fda8dee9'},\n",
       "  {'index': 2, 'transactions': [{'sender_address': 'Alice', 'recipient_address': 'Bob', 'value': 10, 'data': 'Hello Bob!'}, {'sender_address': 'Bob', 'recipient_address': 'Alice', 'value': 5, 'data': 'Hello Alice!'}, {'sender_address': 'Alice3', 'recipient_address': 'Bob3', 'value': 13, 'data': 'Hello Bob3!'}, {'sender_address': 'Alice4', 'recipient_address': 'Bob4', 'value': 14, 'data': 'Hello Bob4!'}, {'sender_address': 'Alice5', 'recipient_address': 'Bob5', 'value': 15, 'data': 'Hello Bob5!'}], 'author': 'Satoshi5', 'timestamp': 1695472585.481483, 'previous_hash': '000d8ccb381f449267083aece3a7bc09e5d841d889e6c224adf030f2fda8dee9', 'nonce': 6589, 'hash': '000439e3220ed44a4a6a517ca66ea5cf185cc74f313a9278f1109cb08b82c447'},\n",
       "  {'index': 3, 'transactions': [{'sender_address': 'Alice', 'recipient_address': 'Bob', 'value': 10, 'data': 'Hello Bob!'}, {'sender_address': 'Bob', 'recipient_address': 'Alice', 'value': 5, 'data': 'Hello Alice!'}, {'sender_address': 'Alice3', 'recipient_address': 'Bob3', 'value': 13, 'data': 'Hello Bob3!'}, {'sender_address': 'Alice4', 'recipient_address': 'Bob4', 'value': 14, 'data': 'Hello Bob4!'}, {'sender_address': 'Alice5', 'recipient_address': 'Bob5', 'value': 15, 'data': 'Hello Bob5!'}], 'author': 'Satoshi3', 'timestamp': 1695472587.393713, 'previous_hash': '000439e3220ed44a4a6a517ca66ea5cf185cc74f313a9278f1109cb08b82c447', 'nonce': 5192, 'hash': '000cf5718840b34fc02d618023386abd4b3a15f02e94b298206ac07683fb1085'},\n",
       "  {'index': 4, 'transactions': [{'sender_address': 'Alice', 'recipient_address': 'Bob', 'value': 10, 'data': 'Hello Bob!'}, {'sender_address': 'Bob', 'recipient_address': 'Alice', 'value': 5, 'data': 'Hello Alice!'}, {'sender_address': 'Alice3', 'recipient_address': 'Bob3', 'value': 13, 'data': 'Hello Bob3!'}, {'sender_address': 'Alice4', 'recipient_address': 'Bob4', 'value': 14, 'data': 'Hello Bob4!'}, {'sender_address': 'Alice5', 'recipient_address': 'Bob5', 'value': 15, 'data': 'Hello Bob5!'}], 'author': 'Satoshi6', 'timestamp': 1695472588.7281935, 'previous_hash': '000cf5718840b34fc02d618023386abd4b3a15f02e94b298206ac07683fb1085', 'nonce': 1970, 'hash': '000d58b6528732db05aa9dec2706be6f1a03175e9fd35610a68159b34ee736bd'},\n",
       "  {'index': 5, 'transactions': [{'sender_address': 'Alice', 'recipient_address': 'Bob', 'value': 10, 'data': 'Hello Bob!'}, {'sender_address': 'Bob', 'recipient_address': 'Alice', 'value': 5, 'data': 'Hello Alice!'}, {'sender_address': 'Alice3', 'recipient_address': 'Bob3', 'value': 13, 'data': 'Hello Bob3!'}, {'sender_address': 'Alice4', 'recipient_address': 'Bob4', 'value': 14, 'data': 'Hello Bob4!'}, {'sender_address': 'Alice5', 'recipient_address': 'Bob5', 'value': 15, 'data': 'Hello Bob5!'}], 'author': 'Satoshi4', 'timestamp': 1695472589.767343, 'previous_hash': '000d58b6528732db05aa9dec2706be6f1a03175e9fd35610a68159b34ee736bd', 'nonce': 8811, 'hash': '000465533a177dc57215de84a05f6d5880c1a09c0649c84edea0d252dbbc5e3f'},\n",
       "  {'index': 6, 'transactions': [{'sender_address': 'Alice', 'recipient_address': 'Bob', 'value': 10, 'data': 'Hello Bob!'}, {'sender_address': 'Bob', 'recipient_address': 'Alice', 'value': 5, 'data': 'Hello Alice!'}, {'sender_address': 'Alice3', 'recipient_address': 'Bob3', 'value': 13, 'data': 'Hello Bob3!'}, {'sender_address': 'Alice4', 'recipient_address': 'Bob4', 'value': 14, 'data': 'Hello Bob4!'}, {'sender_address': 'Alice5', 'recipient_address': 'Bob5', 'value': 15, 'data': 'Hello Bob5!'}], 'author': 'Satoshi7', 'timestamp': 1695472592.0759404, 'previous_hash': '000465533a177dc57215de84a05f6d5880c1a09c0649c84edea0d252dbbc5e3f', 'nonce': 7796, 'hash': '0009f495fd5baf81b4e7b85415e972530850424d0ff6a8abadc5d1a0f4300c22'},\n",
       "  {'index': 7, 'transactions': [{'sender_address': 'Alice', 'recipient_address': 'Bob', 'value': 10, 'data': 'Hello Bob!'}, {'sender_address': 'Bob', 'recipient_address': 'Alice', 'value': 5, 'data': 'Hello Alice!'}, {'sender_address': 'Alice3', 'recipient_address': 'Bob3', 'value': 13, 'data': 'Hello Bob3!'}, {'sender_address': 'Alice4', 'recipient_address': 'Bob4', 'value': 14, 'data': 'Hello Bob4!'}, {'sender_address': 'Alice5', 'recipient_address': 'Bob5', 'value': 15, 'data': 'Hello Bob5!'}], 'author': 'Satoshi4', 'timestamp': 1695472593.3444562, 'previous_hash': '0009f495fd5baf81b4e7b85415e972530850424d0ff6a8abadc5d1a0f4300c22', 'nonce': 9728, 'hash': '00020b04be283b1bc0c4d021371cce7b337d1056297e27e46449f9f51c1f09d0'},\n",
       "  {'index': 8, 'transactions': [{'sender_address': 'Alice', 'recipient_address': 'Bob', 'value': 10, 'data': 'Hello Bob!'}, {'sender_address': 'Bob', 'recipient_address': 'Alice', 'value': 5, 'data': 'Hello Alice!'}, {'sender_address': 'Alice3', 'recipient_address': 'Bob3', 'value': 13, 'data': 'Hello Bob3!'}, {'sender_address': 'Alice4', 'recipient_address': 'Bob4', 'value': 14, 'data': 'Hello Bob4!'}, {'sender_address': 'Alice5', 'recipient_address': 'Bob5', 'value': 15, 'data': 'Hello Bob5!'}], 'author': 'Satoshi3', 'timestamp': 1695472595.074859, 'previous_hash': '00020b04be283b1bc0c4d021371cce7b337d1056297e27e46449f9f51c1f09d0', 'nonce': 5784, 'hash': '000a391f00551328662a70b7c834ff6446c7f83d587ea1db0c68af60927847df'},\n",
       "  {'index': 9, 'transactions': [{'sender_address': 'Alice', 'recipient_address': 'Bob', 'value': 10, 'data': 'Hello Bob!'}, {'sender_address': 'Bob', 'recipient_address': 'Alice', 'value': 5, 'data': 'Hello Alice!'}, {'sender_address': 'Alice3', 'recipient_address': 'Bob3', 'value': 13, 'data': 'Hello Bob3!'}, {'sender_address': 'Alice4', 'recipient_address': 'Bob4', 'value': 14, 'data': 'Hello Bob4!'}, {'sender_address': 'Alice5', 'recipient_address': 'Bob5', 'value': 15, 'data': 'Hello Bob5!'}], 'author': 'Satoshi7', 'timestamp': 1695472596.5096924, 'previous_hash': '000a391f00551328662a70b7c834ff6446c7f83d587ea1db0c68af60927847df', 'nonce': 7445, 'hash': '0005b6aceec7f7fcdf4ac36ad6f597a9b203d4981cbd325c2d2e1a05fcb2294e'},\n",
       "  {'index': 10, 'transactions': [{'sender_address': 'Alice', 'recipient_address': 'Bob', 'value': 10, 'data': 'Hello Bob!'}, {'sender_address': 'Bob', 'recipient_address': 'Alice', 'value': 5, 'data': 'Hello Alice!'}, {'sender_address': 'Alice3', 'recipient_address': 'Bob3', 'value': 13, 'data': 'Hello Bob3!'}, {'sender_address': 'Alice4', 'recipient_address': 'Bob4', 'value': 14, 'data': 'Hello Bob4!'}, {'sender_address': 'Alice5', 'recipient_address': 'Bob5', 'value': 15, 'data': 'Hello Bob5!'}], 'author': 'Satoshi6', 'timestamp': 1695472597.787452, 'previous_hash': '0005b6aceec7f7fcdf4ac36ad6f597a9b203d4981cbd325c2d2e1a05fcb2294e', 'nonce': 2083, 'hash': '00054a58c5b3d5a0eac57c519fc072b040f79f3bc2e264250811c2cf26788c06'},\n",
       "  {'index': 11, 'transactions': [{'sender_address': 'Alice', 'recipient_address': 'Bob', 'value': 10, 'data': 'Hello Bob!'}, {'sender_address': 'Bob', 'recipient_address': 'Alice', 'value': 5, 'data': 'Hello Alice!'}, {'sender_address': 'Alice3', 'recipient_address': 'Bob3', 'value': 13, 'data': 'Hello Bob3!'}, {'sender_address': 'Alice4', 'recipient_address': 'Bob4', 'value': 14, 'data': 'Hello Bob4!'}, {'sender_address': 'Alice5', 'recipient_address': 'Bob5', 'value': 15, 'data': 'Hello Bob5!'}], 'author': 'Satoshi5', 'timestamp': 1695472599.1073523, 'previous_hash': '00054a58c5b3d5a0eac57c519fc072b040f79f3bc2e264250811c2cf26788c06', 'nonce': 4235, 'hash': '000e0587e731eb505bebe9247a6e5cf422ee4f3e4999ccf33718489366da8f66'},\n",
       "  {'index': 12, 'transactions': [{'sender_address': 'Alice', 'recipient_address': 'Bob', 'value': 10, 'data': 'Hello Bob!'}, {'sender_address': 'Bob', 'recipient_address': 'Alice', 'value': 5, 'data': 'Hello Alice!'}, {'sender_address': 'Alice3', 'recipient_address': 'Bob3', 'value': 13, 'data': 'Hello Bob3!'}, {'sender_address': 'Alice4', 'recipient_address': 'Bob4', 'value': 14, 'data': 'Hello Bob4!'}, {'sender_address': 'Alice5', 'recipient_address': 'Bob5', 'value': 15, 'data': 'Hello Bob5!'}], 'author': 'Satoshi4', 'timestamp': 1695472600.3814685, 'previous_hash': '000e0587e731eb505bebe9247a6e5cf422ee4f3e4999ccf33718489366da8f66', 'nonce': 3098, 'hash': '000b2e3c2e9ce6d1c162f8448c25340f0e22150e737617a96ca26720047b0776'},\n",
       "  {'index': 13, 'transactions': [{'sender_address': 'Alice', 'recipient_address': 'Bob', 'value': 10, 'data': 'Hello Bob!'}, {'sender_address': 'Bob', 'recipient_address': 'Alice', 'value': 5, 'data': 'Hello Alice!'}, {'sender_address': 'Alice3', 'recipient_address': 'Bob3', 'value': 13, 'data': 'Hello Bob3!'}, {'sender_address': 'Alice4', 'recipient_address': 'Bob4', 'value': 14, 'data': 'Hello Bob4!'}, {'sender_address': 'Alice5', 'recipient_address': 'Bob5', 'value': 15, 'data': 'Hello Bob5!'}], 'author': 'Satoshi6', 'timestamp': 1695472601.6337583, 'previous_hash': '000b2e3c2e9ce6d1c162f8448c25340f0e22150e737617a96ca26720047b0776', 'nonce': 10525, 'hash': '00069f51faa33032402c88226b8f0da2d1979f2fb6c621b276baf160868d1165'},\n",
       "  {'index': 14, 'transactions': [{'sender_address': 'Alice', 'recipient_address': 'Bob', 'value': 10, 'data': 'Hello Bob!'}, {'sender_address': 'Bob', 'recipient_address': 'Alice', 'value': 5, 'data': 'Hello Alice!'}, {'sender_address': 'Alice3', 'recipient_address': 'Bob3', 'value': 13, 'data': 'Hello Bob3!'}, {'sender_address': 'Alice4', 'recipient_address': 'Bob4', 'value': 14, 'data': 'Hello Bob4!'}, {'sender_address': 'Alice5', 'recipient_address': 'Bob5', 'value': 15, 'data': 'Hello Bob5!'}], 'author': 'Satoshi5', 'timestamp': 1695472603.1018445, 'previous_hash': '00069f51faa33032402c88226b8f0da2d1979f2fb6c621b276baf160868d1165', 'nonce': 5595, 'hash': '000cd2ea26ae165b1a8f842f9463cb18768d75e35a4131292b9a85536241863d'},\n",
       "  {'index': 15, 'transactions': [{'sender_address': 'Alice', 'recipient_address': 'Bob', 'value': 10, 'data': 'Hello Bob!'}, {'sender_address': 'Bob', 'recipient_address': 'Alice', 'value': 5, 'data': 'Hello Alice!'}, {'sender_address': 'Alice3', 'recipient_address': 'Bob3', 'value': 13, 'data': 'Hello Bob3!'}, {'sender_address': 'Alice4', 'recipient_address': 'Bob4', 'value': 14, 'data': 'Hello Bob4!'}, {'sender_address': 'Alice5', 'recipient_address': 'Bob5', 'value': 15, 'data': 'Hello Bob5!'}], 'author': 'Satoshi3', 'timestamp': 1695472604.6168876, 'previous_hash': '000cd2ea26ae165b1a8f842f9463cb18768d75e35a4131292b9a85536241863d', 'nonce': 11585, 'hash': '000fc9f3cda21c8aff7ac365fef892f77333e2410ec938952c7873eac2e3288d'},\n",
       "  {'index': 16, 'transactions': [{'sender_address': 'Alice', 'recipient_address': 'Bob', 'value': 10, 'data': 'Hello Bob!'}, {'sender_address': 'Bob', 'recipient_address': 'Alice', 'value': 5, 'data': 'Hello Alice!'}, {'sender_address': 'Alice3', 'recipient_address': 'Bob3', 'value': 13, 'data': 'Hello Bob3!'}, {'sender_address': 'Alice4', 'recipient_address': 'Bob4', 'value': 14, 'data': 'Hello Bob4!'}, {'sender_address': 'Alice5', 'recipient_address': 'Bob5', 'value': 15, 'data': 'Hello Bob5!'}], 'author': 'Satoshi6', 'timestamp': 1695472606.8077874, 'previous_hash': '000fc9f3cda21c8aff7ac365fef892f77333e2410ec938952c7873eac2e3288d', 'nonce': 5623, 'hash': '000b3bb04495674d152e6e5c3c0a554ce732f3a245851765885617bcd3e33def'},\n",
       "  {'index': 17, 'transactions': [{'sender_address': 'Alice', 'recipient_address': 'Bob', 'value': 10, 'data': 'Hello Bob!'}, {'sender_address': 'Bob', 'recipient_address': 'Alice', 'value': 5, 'data': 'Hello Alice!'}, {'sender_address': 'Alice3', 'recipient_address': 'Bob3', 'value': 13, 'data': 'Hello Bob3!'}, {'sender_address': 'Alice4', 'recipient_address': 'Bob4', 'value': 14, 'data': 'Hello Bob4!'}, {'sender_address': 'Alice5', 'recipient_address': 'Bob5', 'value': 15, 'data': 'Hello Bob5!'}], 'author': 'Satoshi7', 'timestamp': 1695472608.3153398, 'previous_hash': '000b3bb04495674d152e6e5c3c0a554ce732f3a245851765885617bcd3e33def', 'nonce': 1032, 'hash': '000e42bd2ded1fceae43f07161488bfe389e403ede3382dc86f614ec5f6aff09'},\n",
       "  {'index': 18, 'transactions': [{'sender_address': 'Alice', 'recipient_address': 'Bob', 'value': 10, 'data': 'Hello Bob!'}, {'sender_address': 'Bob', 'recipient_address': 'Alice', 'value': 5, 'data': 'Hello Alice!'}, {'sender_address': 'Alice3', 'recipient_address': 'Bob3', 'value': 13, 'data': 'Hello Bob3!'}, {'sender_address': 'Alice4', 'recipient_address': 'Bob4', 'value': 14, 'data': 'Hello Bob4!'}, {'sender_address': 'Alice5', 'recipient_address': 'Bob5', 'value': 15, 'data': 'Hello Bob5!'}], 'author': 'Satoshi5', 'timestamp': 1695472609.597312, 'previous_hash': '000e42bd2ded1fceae43f07161488bfe389e403ede3382dc86f614ec5f6aff09', 'nonce': 3269, 'hash': '000f20ce33c2d9ede0800603c0bda14838d05bc107ba3bf302308d85b19b88a2'},\n",
       "  {'index': 19, 'transactions': [{'sender_address': 'Alice', 'recipient_address': 'Bob', 'value': 10, 'data': 'Hello Bob!'}, {'sender_address': 'Bob', 'recipient_address': 'Alice', 'value': 5, 'data': 'Hello Alice!'}, {'sender_address': 'Alice3', 'recipient_address': 'Bob3', 'value': 13, 'data': 'Hello Bob3!'}, {'sender_address': 'Alice4', 'recipient_address': 'Bob4', 'value': 14, 'data': 'Hello Bob4!'}, {'sender_address': 'Alice5', 'recipient_address': 'Bob5', 'value': 15, 'data': 'Hello Bob5!'}], 'author': 'Satoshi3', 'timestamp': 1695472611.1006775, 'previous_hash': '000f20ce33c2d9ede0800603c0bda14838d05bc107ba3bf302308d85b19b88a2', 'nonce': 4226, 'hash': '0009cc7a776aae9106ada656bd284b838cb927a16c44eb1ea080809bf4518749'},\n",
       "  {'index': 20, 'transactions': [{'sender_address': 'Alice', 'recipient_address': 'Bob', 'value': 10, 'data': 'Hello Bob!'}, {'sender_address': 'Bob', 'recipient_address': 'Alice', 'value': 5, 'data': 'Hello Alice!'}, {'sender_address': 'Alice3', 'recipient_address': 'Bob3', 'value': 13, 'data': 'Hello Bob3!'}, {'sender_address': 'Alice4', 'recipient_address': 'Bob4', 'value': 14, 'data': 'Hello Bob4!'}, {'sender_address': 'Alice5', 'recipient_address': 'Bob5', 'value': 15, 'data': 'Hello Bob5!'}], 'author': 'Satoshi4', 'timestamp': 1695472612.4080813, 'previous_hash': '0009cc7a776aae9106ada656bd284b838cb927a16c44eb1ea080809bf4518749', 'nonce': 2914, 'hash': '000fa52fd503975ddecebe1d0fed33a1c0f99c9fc7d7733c33cc99d6ebf05c94'},\n",
       "  {'index': 21, 'transactions': [{'sender_address': 'Alice', 'recipient_address': 'Bob', 'value': 10, 'data': 'Hello Bob!'}, {'sender_address': 'Bob', 'recipient_address': 'Alice', 'value': 5, 'data': 'Hello Alice!'}, {'sender_address': 'Alice3', 'recipient_address': 'Bob3', 'value': 13, 'data': 'Hello Bob3!'}, {'sender_address': 'Alice4', 'recipient_address': 'Bob4', 'value': 14, 'data': 'Hello Bob4!'}, {'sender_address': 'Alice5', 'recipient_address': 'Bob5', 'value': 15, 'data': 'Hello Bob5!'}], 'author': 'Satoshi6', 'timestamp': 1695472613.543998, 'previous_hash': '000fa52fd503975ddecebe1d0fed33a1c0f99c9fc7d7733c33cc99d6ebf05c94', 'nonce': 9113, 'hash': '0000721b30027ec6a1088572f441e17a31fd0cf87efee88c548f15f1227f4221'},\n",
       "  {'index': 22, 'transactions': [{'sender_address': 'Alice', 'recipient_address': 'Bob', 'value': 10, 'data': 'Hello Bob!'}, {'sender_address': 'Bob', 'recipient_address': 'Alice', 'value': 5, 'data': 'Hello Alice!'}, {'sender_address': 'Alice3', 'recipient_address': 'Bob3', 'value': 13, 'data': 'Hello Bob3!'}, {'sender_address': 'Alice4', 'recipient_address': 'Bob4', 'value': 14, 'data': 'Hello Bob4!'}, {'sender_address': 'Alice5', 'recipient_address': 'Bob5', 'value': 15, 'data': 'Hello Bob5!'}], 'author': 'Satoshi4', 'timestamp': 1695472615.5691507, 'previous_hash': '0000721b30027ec6a1088572f441e17a31fd0cf87efee88c548f15f1227f4221', 'nonce': 19352, 'hash': '000f1f868301e64db9ef323f41cc7ef2077b414032f5a4a3a5a05f308b9214ea'},\n",
       "  {'index': 23, 'transactions': [{'sender_address': 'Alice', 'recipient_address': 'Bob', 'value': 10, 'data': 'Hello Bob!'}, {'sender_address': 'Bob', 'recipient_address': 'Alice', 'value': 5, 'data': 'Hello Alice!'}, {'sender_address': 'Alice3', 'recipient_address': 'Bob3', 'value': 13, 'data': 'Hello Bob3!'}, {'sender_address': 'Alice4', 'recipient_address': 'Bob4', 'value': 14, 'data': 'Hello Bob4!'}, {'sender_address': 'Alice5', 'recipient_address': 'Bob5', 'value': 15, 'data': 'Hello Bob5!'}], 'author': 'Satoshi6', 'timestamp': 1695472616.8291626, 'previous_hash': '000f1f868301e64db9ef323f41cc7ef2077b414032f5a4a3a5a05f308b9214ea', 'nonce': 11787, 'hash': '000c8ebc35a63b1cc3979971f96d9b61a045cb5a1c0330d967bb5dc4f461d7b7'},\n",
       "  {'index': 24, 'transactions': [{'sender_address': 'Alice', 'recipient_address': 'Bob', 'value': 10, 'data': 'Hello Bob!'}, {'sender_address': 'Bob', 'recipient_address': 'Alice', 'value': 5, 'data': 'Hello Alice!'}, {'sender_address': 'Alice3', 'recipient_address': 'Bob3', 'value': 13, 'data': 'Hello Bob3!'}, {'sender_address': 'Alice4', 'recipient_address': 'Bob4', 'value': 14, 'data': 'Hello Bob4!'}, {'sender_address': 'Alice5', 'recipient_address': 'Bob5', 'value': 15, 'data': 'Hello Bob5!'}], 'author': 'Satoshi7', 'timestamp': 1695472619.25848, 'previous_hash': '000c8ebc35a63b1cc3979971f96d9b61a045cb5a1c0330d967bb5dc4f461d7b7', 'nonce': 10065, 'hash': '00021c8c875cae358d2d528ab47c2194d8c6d8cec2311222f5b0e4b36cfce890'},\n",
       "  {'index': 25, 'transactions': [{'sender_address': 'Alice', 'recipient_address': 'Bob', 'value': 10, 'data': 'Hello Bob!'}, {'sender_address': 'Bob', 'recipient_address': 'Alice', 'value': 5, 'data': 'Hello Alice!'}, {'sender_address': 'Alice3', 'recipient_address': 'Bob3', 'value': 13, 'data': 'Hello Bob3!'}, {'sender_address': 'Alice4', 'recipient_address': 'Bob4', 'value': 14, 'data': 'Hello Bob4!'}, {'sender_address': 'Alice5', 'recipient_address': 'Bob5', 'value': 15, 'data': 'Hello Bob5!'}], 'author': 'Satoshi3', 'timestamp': 1695472620.5176759, 'previous_hash': '00021c8c875cae358d2d528ab47c2194d8c6d8cec2311222f5b0e4b36cfce890', 'nonce': 7078, 'hash': '000847f1361b8ccba056f0fa46a737b4261f15e2fc1ad95d5afdb3bfb0d54427'},\n",
       "  {'index': 26, 'transactions': [{'sender_address': 'Alice', 'recipient_address': 'Bob', 'value': 10, 'data': 'Hello Bob!'}, {'sender_address': 'Bob', 'recipient_address': 'Alice', 'value': 5, 'data': 'Hello Alice!'}, {'sender_address': 'Alice3', 'recipient_address': 'Bob3', 'value': 13, 'data': 'Hello Bob3!'}, {'sender_address': 'Alice4', 'recipient_address': 'Bob4', 'value': 14, 'data': 'Hello Bob4!'}, {'sender_address': 'Alice5', 'recipient_address': 'Bob5', 'value': 15, 'data': 'Hello Bob5!'}], 'author': 'Satoshi6', 'timestamp': 1695472621.8988972, 'previous_hash': '000847f1361b8ccba056f0fa46a737b4261f15e2fc1ad95d5afdb3bfb0d54427', 'nonce': 541, 'hash': '000be8a16caea62713c8d65194ea9755db1869f45b7caf1cf59cc45e617345be'},\n",
       "  {'index': 27, 'transactions': [{'sender_address': 'Alice', 'recipient_address': 'Bob', 'value': 10, 'data': 'Hello Bob!'}, {'sender_address': 'Bob', 'recipient_address': 'Alice', 'value': 5, 'data': 'Hello Alice!'}, {'sender_address': 'Alice3', 'recipient_address': 'Bob3', 'value': 13, 'data': 'Hello Bob3!'}, {'sender_address': 'Alice4', 'recipient_address': 'Bob4', 'value': 14, 'data': 'Hello Bob4!'}, {'sender_address': 'Alice5', 'recipient_address': 'Bob5', 'value': 15, 'data': 'Hello Bob5!'}], 'author': 'Satoshi6', 'timestamp': 1695472623.0774775, 'previous_hash': '000be8a16caea62713c8d65194ea9755db1869f45b7caf1cf59cc45e617345be', 'nonce': 14333, 'hash': '000aacb2694fc8d9453bde8b388b9462423143a94a42b22baebd207a98200ca0'},\n",
       "  {'index': 28, 'transactions': [{'sender_address': 'Alice', 'recipient_address': 'Bob', 'value': 10, 'data': 'Hello Bob!'}, {'sender_address': 'Bob', 'recipient_address': 'Alice', 'value': 5, 'data': 'Hello Alice!'}, {'sender_address': 'Alice3', 'recipient_address': 'Bob3', 'value': 13, 'data': 'Hello Bob3!'}, {'sender_address': 'Alice4', 'recipient_address': 'Bob4', 'value': 14, 'data': 'Hello Bob4!'}, {'sender_address': 'Alice5', 'recipient_address': 'Bob5', 'value': 15, 'data': 'Hello Bob5!'}], 'author': 'Satoshi5', 'timestamp': 1695472625.2608058, 'previous_hash': '000aacb2694fc8d9453bde8b388b9462423143a94a42b22baebd207a98200ca0', 'nonce': 4945, 'hash': '000b1205638a28ce8ee9c31b97563aae7b45fa039380b03c2610bd8b69fbfede'},\n",
       "  {'index': 29, 'transactions': [{'sender_address': 'Alice', 'recipient_address': 'Bob', 'value': 10, 'data': 'Hello Bob!'}, {'sender_address': 'Bob', 'recipient_address': 'Alice', 'value': 5, 'data': 'Hello Alice!'}, {'sender_address': 'Alice3', 'recipient_address': 'Bob3', 'value': 13, 'data': 'Hello Bob3!'}, {'sender_address': 'Alice4', 'recipient_address': 'Bob4', 'value': 14, 'data': 'Hello Bob4!'}, {'sender_address': 'Alice5', 'recipient_address': 'Bob5', 'value': 15, 'data': 'Hello Bob5!'}], 'author': 'Satoshi7', 'timestamp': 1695472627.799333, 'previous_hash': '000b1205638a28ce8ee9c31b97563aae7b45fa039380b03c2610bd8b69fbfede', 'nonce': 5410, 'hash': '000088ba5eb711f1a342287e5d0be3e852d95bac2c75d99febca05462337aba7'},\n",
       "  {'index': 30, 'transactions': [{'sender_address': 'Alice', 'recipient_address': 'Bob', 'value': 10, 'data': 'Hello Bob!'}, {'sender_address': 'Bob', 'recipient_address': 'Alice', 'value': 5, 'data': 'Hello Alice!'}, {'sender_address': 'Alice3', 'recipient_address': 'Bob3', 'value': 13, 'data': 'Hello Bob3!'}, {'sender_address': 'Alice4', 'recipient_address': 'Bob4', 'value': 14, 'data': 'Hello Bob4!'}, {'sender_address': 'Alice5', 'recipient_address': 'Bob5', 'value': 15, 'data': 'Hello Bob5!'}], 'author': 'Satoshi5', 'timestamp': 1695472629.1568525, 'previous_hash': '000088ba5eb711f1a342287e5d0be3e852d95bac2c75d99febca05462337aba7', 'nonce': 21282, 'hash': '0005f3589b72a3fd0c20567dfbebfd347d47eb5b20976fcc41fde02aefde5730'},\n",
       "  {'index': 31, 'transactions': [{'sender_address': 'Alice', 'recipient_address': 'Bob', 'value': 10, 'data': 'Hello Bob!'}, {'sender_address': 'Bob', 'recipient_address': 'Alice', 'value': 5, 'data': 'Hello Alice!'}, {'sender_address': 'Alice3', 'recipient_address': 'Bob3', 'value': 13, 'data': 'Hello Bob3!'}, {'sender_address': 'Alice4', 'recipient_address': 'Bob4', 'value': 14, 'data': 'Hello Bob4!'}, {'sender_address': 'Alice5', 'recipient_address': 'Bob5', 'value': 15, 'data': 'Hello Bob5!'}], 'author': 'Satoshi5', 'timestamp': 1695472630.282921, 'previous_hash': '0005f3589b72a3fd0c20567dfbebfd347d47eb5b20976fcc41fde02aefde5730', 'nonce': 3972, 'hash': '0009d1d0cd824084f3c94c70a42ba08728541729470dd2164dafa8645d4b7519'},\n",
       "  {'index': 32, 'transactions': [{'sender_address': 'Alice', 'recipient_address': 'Bob', 'value': 10, 'data': 'Hello Bob!'}, {'sender_address': 'Bob', 'recipient_address': 'Alice', 'value': 5, 'data': 'Hello Alice!'}, {'sender_address': 'Alice3', 'recipient_address': 'Bob3', 'value': 13, 'data': 'Hello Bob3!'}, {'sender_address': 'Alice4', 'recipient_address': 'Bob4', 'value': 14, 'data': 'Hello Bob4!'}, {'sender_address': 'Alice5', 'recipient_address': 'Bob5', 'value': 15, 'data': 'Hello Bob5!'}], 'author': 'Satoshi3', 'timestamp': 1695472632.116832, 'previous_hash': '0009d1d0cd824084f3c94c70a42ba08728541729470dd2164dafa8645d4b7519', 'nonce': 11168, 'hash': '0001175fa4587a4f64c455c262344ff81208062fe4a19604f499a3c0a8503816'},\n",
       "  {'index': 33, 'transactions': [{'sender_address': 'Alice', 'recipient_address': 'Bob', 'value': 10, 'data': 'Hello Bob!'}, {'sender_address': 'Bob', 'recipient_address': 'Alice', 'value': 5, 'data': 'Hello Alice!'}, {'sender_address': 'Alice3', 'recipient_address': 'Bob3', 'value': 13, 'data': 'Hello Bob3!'}, {'sender_address': 'Alice4', 'recipient_address': 'Bob4', 'value': 14, 'data': 'Hello Bob4!'}, {'sender_address': 'Alice5', 'recipient_address': 'Bob5', 'value': 15, 'data': 'Hello Bob5!'}], 'author': 'Satoshi5', 'timestamp': 1695472634.0315218, 'previous_hash': '0001175fa4587a4f64c455c262344ff81208062fe4a19604f499a3c0a8503816', 'nonce': 5141, 'hash': '000c8ee15a30d357e66d683bd79abb0233b8dff7eec73323110f602a9ade1324'},\n",
       "  {'index': 34, 'transactions': [{'sender_address': 'Alice', 'recipient_address': 'Bob', 'value': 10, 'data': 'Hello Bob!'}, {'sender_address': 'Bob', 'recipient_address': 'Alice', 'value': 5, 'data': 'Hello Alice!'}, {'sender_address': 'Alice3', 'recipient_address': 'Bob3', 'value': 13, 'data': 'Hello Bob3!'}, {'sender_address': 'Alice4', 'recipient_address': 'Bob4', 'value': 14, 'data': 'Hello Bob4!'}, {'sender_address': 'Alice5', 'recipient_address': 'Bob5', 'value': 15, 'data': 'Hello Bob5!'}], 'author': 'Satoshi5', 'timestamp': 1695472635.4040618, 'previous_hash': '000c8ee15a30d357e66d683bd79abb0233b8dff7eec73323110f602a9ade1324', 'nonce': 9955, 'hash': '000a365dc69629c8252ca561c36a6ea2db3100d85b07e220d9fa6d6d326961e0'},\n",
       "  {'index': 35, 'transactions': [{'sender_address': 'Alice', 'recipient_address': 'Bob', 'value': 10, 'data': 'Hello Bob!'}, {'sender_address': 'Bob', 'recipient_address': 'Alice', 'value': 5, 'data': 'Hello Alice!'}, {'sender_address': 'Alice3', 'recipient_address': 'Bob3', 'value': 13, 'data': 'Hello Bob3!'}, {'sender_address': 'Alice4', 'recipient_address': 'Bob4', 'value': 14, 'data': 'Hello Bob4!'}, {'sender_address': 'Alice5', 'recipient_address': 'Bob5', 'value': 15, 'data': 'Hello Bob5!'}], 'author': 'Satoshi6', 'timestamp': 1695472636.9852624, 'previous_hash': '000a365dc69629c8252ca561c36a6ea2db3100d85b07e220d9fa6d6d326961e0', 'nonce': 1488, 'hash': '000350de2abcdbe085ba6c53f9707c1a921a8fcb4a126173c8cca2871a799eee'},\n",
       "  {'index': 36, 'transactions': [{'sender_address': 'Alice', 'recipient_address': 'Bob', 'value': 10, 'data': 'Hello Bob!'}, {'sender_address': 'Bob', 'recipient_address': 'Alice', 'value': 5, 'data': 'Hello Alice!'}, {'sender_address': 'Alice3', 'recipient_address': 'Bob3', 'value': 13, 'data': 'Hello Bob3!'}, {'sender_address': 'Alice4', 'recipient_address': 'Bob4', 'value': 14, 'data': 'Hello Bob4!'}, {'sender_address': 'Alice5', 'recipient_address': 'Bob5', 'value': 15, 'data': 'Hello Bob5!'}], 'author': 'Satoshi5', 'timestamp': 1695472638.3648887, 'previous_hash': '000350de2abcdbe085ba6c53f9707c1a921a8fcb4a126173c8cca2871a799eee', 'nonce': 5145, 'hash': '0003a8d249038407297c68960c9bbe2f3ca821cce457628565fbdccdf8c38b41'},\n",
       "  {'index': 37, 'transactions': [{'sender_address': 'Alice', 'recipient_address': 'Bob', 'value': 10, 'data': 'Hello Bob!'}, {'sender_address': 'Bob', 'recipient_address': 'Alice', 'value': 5, 'data': 'Hello Alice!'}, {'sender_address': 'Alice3', 'recipient_address': 'Bob3', 'value': 13, 'data': 'Hello Bob3!'}, {'sender_address': 'Alice4', 'recipient_address': 'Bob4', 'value': 14, 'data': 'Hello Bob4!'}, {'sender_address': 'Alice5', 'recipient_address': 'Bob5', 'value': 15, 'data': 'Hello Bob5!'}], 'author': 'Satoshi3', 'timestamp': 1695472639.9537587, 'previous_hash': '0003a8d249038407297c68960c9bbe2f3ca821cce457628565fbdccdf8c38b41', 'nonce': 4397, 'hash': '0007bca91784f4bf0f1b03c2af99ae140b645cbecf6a89d52f27e4a6193ee539'},\n",
       "  {'index': 38, 'transactions': [{'sender_address': 'Alice', 'recipient_address': 'Bob', 'value': 10, 'data': 'Hello Bob!'}, {'sender_address': 'Bob', 'recipient_address': 'Alice', 'value': 5, 'data': 'Hello Alice!'}, {'sender_address': 'Alice3', 'recipient_address': 'Bob3', 'value': 13, 'data': 'Hello Bob3!'}, {'sender_address': 'Alice4', 'recipient_address': 'Bob4', 'value': 14, 'data': 'Hello Bob4!'}, {'sender_address': 'Alice5', 'recipient_address': 'Bob5', 'value': 15, 'data': 'Hello Bob5!'}], 'author': 'Satoshi6', 'timestamp': 1695472641.9912963, 'previous_hash': '0007bca91784f4bf0f1b03c2af99ae140b645cbecf6a89d52f27e4a6193ee539', 'nonce': 3324, 'hash': '0009e248f97d01e01045c3842218125714e914338f6079a1de45f8d7f0f4d07d'},\n",
       "  {'index': 39, 'transactions': [{'sender_address': 'Alice', 'recipient_address': 'Bob', 'value': 10, 'data': 'Hello Bob!'}, {'sender_address': 'Bob', 'recipient_address': 'Alice', 'value': 5, 'data': 'Hello Alice!'}, {'sender_address': 'Alice3', 'recipient_address': 'Bob3', 'value': 13, 'data': 'Hello Bob3!'}, {'sender_address': 'Alice4', 'recipient_address': 'Bob4', 'value': 14, 'data': 'Hello Bob4!'}, {'sender_address': 'Alice5', 'recipient_address': 'Bob5', 'value': 15, 'data': 'Hello Bob5!'}], 'author': 'Satoshi7', 'timestamp': 1695472643.402237, 'previous_hash': '0009e248f97d01e01045c3842218125714e914338f6079a1de45f8d7f0f4d07d', 'nonce': 10787, 'hash': '000a4d44211d525d21e9f0c75f3ecfe108c2df3af60a75263af2f280f855e6af'},\n",
       "  {'index': 40, 'transactions': [{'sender_address': 'Alice', 'recipient_address': 'Bob', 'value': 10, 'data': 'Hello Bob!'}, {'sender_address': 'Bob', 'recipient_address': 'Alice', 'value': 5, 'data': 'Hello Alice!'}, {'sender_address': 'Alice3', 'recipient_address': 'Bob3', 'value': 13, 'data': 'Hello Bob3!'}, {'sender_address': 'Alice4', 'recipient_address': 'Bob4', 'value': 14, 'data': 'Hello Bob4!'}, {'sender_address': 'Alice5', 'recipient_address': 'Bob5', 'value': 15, 'data': 'Hello Bob5!'}], 'author': 'Satoshi3', 'timestamp': 1695472644.892202, 'previous_hash': '000a4d44211d525d21e9f0c75f3ecfe108c2df3af60a75263af2f280f855e6af', 'nonce': 585, 'hash': '0004463a539e7cf13bddf02e616db95ebffbcce8756f49a82168f3913ba5d806'},\n",
       "  {'index': 41, 'transactions': [{'sender_address': 'Alice', 'recipient_address': 'Bob', 'value': 10, 'data': 'Hello Bob!'}, {'sender_address': 'Bob', 'recipient_address': 'Alice', 'value': 5, 'data': 'Hello Alice!'}, {'sender_address': 'Alice3', 'recipient_address': 'Bob3', 'value': 13, 'data': 'Hello Bob3!'}, {'sender_address': 'Alice4', 'recipient_address': 'Bob4', 'value': 14, 'data': 'Hello Bob4!'}, {'sender_address': 'Alice5', 'recipient_address': 'Bob5', 'value': 15, 'data': 'Hello Bob5!'}], 'author': 'Satoshi3', 'timestamp': 1695472646.202815, 'previous_hash': '0004463a539e7cf13bddf02e616db95ebffbcce8756f49a82168f3913ba5d806', 'nonce': 2397, 'hash': '00093cf4984c651746bd27d1a270c644f364c6e1a718f5521345ea49ed7e95c3'},\n",
       "  {'index': 42, 'transactions': [{'sender_address': 'Alice', 'recipient_address': 'Bob', 'value': 10, 'data': 'Hello Bob!'}, {'sender_address': 'Bob', 'recipient_address': 'Alice', 'value': 5, 'data': 'Hello Alice!'}, {'sender_address': 'Alice3', 'recipient_address': 'Bob3', 'value': 13, 'data': 'Hello Bob3!'}, {'sender_address': 'Alice4', 'recipient_address': 'Bob4', 'value': 14, 'data': 'Hello Bob4!'}, {'sender_address': 'Alice5', 'recipient_address': 'Bob5', 'value': 15, 'data': 'Hello Bob5!'}], 'author': 'Satoshi4', 'timestamp': 1695472647.338543, 'previous_hash': '00093cf4984c651746bd27d1a270c644f364c6e1a718f5521345ea49ed7e95c3', 'nonce': 12883, 'hash': '000cdab8a113a27e3a87614ca4d6e60305d0a8375dbdfe09f9d54fb9c569f021'},\n",
       "  {'index': 43, 'transactions': [{'sender_address': 'Alice', 'recipient_address': 'Bob', 'value': 10, 'data': 'Hello Bob!'}, {'sender_address': 'Bob', 'recipient_address': 'Alice', 'value': 5, 'data': 'Hello Alice!'}, {'sender_address': 'Alice3', 'recipient_address': 'Bob3', 'value': 13, 'data': 'Hello Bob3!'}, {'sender_address': 'Alice4', 'recipient_address': 'Bob4', 'value': 14, 'data': 'Hello Bob4!'}, {'sender_address': 'Alice5', 'recipient_address': 'Bob5', 'value': 15, 'data': 'Hello Bob5!'}], 'author': 'Satoshi3', 'timestamp': 1695472648.5797095, 'previous_hash': '000cdab8a113a27e3a87614ca4d6e60305d0a8375dbdfe09f9d54fb9c569f021', 'nonce': 996, 'hash': '00028a588085bb14dd9569f092f885b67dce53f9022d0e0e6be90d7faf879c2d'},\n",
       "  {'index': 44, 'transactions': [{'sender_address': 'Alice', 'recipient_address': 'Bob', 'value': 10, 'data': 'Hello Bob!'}, {'sender_address': 'Bob', 'recipient_address': 'Alice', 'value': 5, 'data': 'Hello Alice!'}, {'sender_address': 'Alice3', 'recipient_address': 'Bob3', 'value': 13, 'data': 'Hello Bob3!'}, {'sender_address': 'Alice4', 'recipient_address': 'Bob4', 'value': 14, 'data': 'Hello Bob4!'}, {'sender_address': 'Alice5', 'recipient_address': 'Bob5', 'value': 15, 'data': 'Hello Bob5!'}], 'author': 'Satoshi6', 'timestamp': 1695472649.821624, 'previous_hash': '00028a588085bb14dd9569f092f885b67dce53f9022d0e0e6be90d7faf879c2d', 'nonce': 6307, 'hash': '000a5d9650466943fe126030041b8ac2a2614253ef77f07dad5dd946a40e3247'},\n",
       "  {'index': 45, 'transactions': [{'sender_address': 'Alice', 'recipient_address': 'Bob', 'value': 10, 'data': 'Hello Bob!'}, {'sender_address': 'Bob', 'recipient_address': 'Alice', 'value': 5, 'data': 'Hello Alice!'}, {'sender_address': 'Alice3', 'recipient_address': 'Bob3', 'value': 13, 'data': 'Hello Bob3!'}, {'sender_address': 'Alice4', 'recipient_address': 'Bob4', 'value': 14, 'data': 'Hello Bob4!'}, {'sender_address': 'Alice5', 'recipient_address': 'Bob5', 'value': 15, 'data': 'Hello Bob5!'}], 'author': 'Satoshi3', 'timestamp': 1695472652.2060661, 'previous_hash': '000a5d9650466943fe126030041b8ac2a2614253ef77f07dad5dd946a40e3247', 'nonce': 6852, 'hash': '0001e2690f7230cbaeb54d4e83364bb9802363636ecfbfc60af1d096b389e9d9'},\n",
       "  {'index': 46, 'transactions': [{'sender_address': 'Alice', 'recipient_address': 'Bob', 'value': 10, 'data': 'Hello Bob!'}, {'sender_address': 'Bob', 'recipient_address': 'Alice', 'value': 5, 'data': 'Hello Alice!'}, {'sender_address': 'Alice3', 'recipient_address': 'Bob3', 'value': 13, 'data': 'Hello Bob3!'}, {'sender_address': 'Alice4', 'recipient_address': 'Bob4', 'value': 14, 'data': 'Hello Bob4!'}, {'sender_address': 'Alice5', 'recipient_address': 'Bob5', 'value': 15, 'data': 'Hello Bob5!'}], 'author': 'Satoshi6', 'timestamp': 1695472654.561462, 'previous_hash': '0001e2690f7230cbaeb54d4e83364bb9802363636ecfbfc60af1d096b389e9d9', 'nonce': 6196, 'hash': '000195799ca140cba1d2d15e8e4af1d50b9488f276cbded6d88161a8b3593d6c'},\n",
       "  {'index': 47, 'transactions': [{'sender_address': 'Alice', 'recipient_address': 'Bob', 'value': 10, 'data': 'Hello Bob!'}, {'sender_address': 'Bob', 'recipient_address': 'Alice', 'value': 5, 'data': 'Hello Alice!'}, {'sender_address': 'Alice3', 'recipient_address': 'Bob3', 'value': 13, 'data': 'Hello Bob3!'}, {'sender_address': 'Alice4', 'recipient_address': 'Bob4', 'value': 14, 'data': 'Hello Bob4!'}, {'sender_address': 'Alice5', 'recipient_address': 'Bob5', 'value': 15, 'data': 'Hello Bob5!'}], 'author': 'Satoshi4', 'timestamp': 1695472655.803105, 'previous_hash': '000195799ca140cba1d2d15e8e4af1d50b9488f276cbded6d88161a8b3593d6c', 'nonce': 1755, 'hash': '000cc1e8297c23b289a754dc84e1511d884f6291b7e458ad5e086f78a02a1c8d'},\n",
       "  {'index': 48, 'transactions': [{'sender_address': 'Alice', 'recipient_address': 'Bob', 'value': 10, 'data': 'Hello Bob!'}, {'sender_address': 'Bob', 'recipient_address': 'Alice', 'value': 5, 'data': 'Hello Alice!'}, {'sender_address': 'Alice3', 'recipient_address': 'Bob3', 'value': 13, 'data': 'Hello Bob3!'}, {'sender_address': 'Alice4', 'recipient_address': 'Bob4', 'value': 14, 'data': 'Hello Bob4!'}, {'sender_address': 'Alice5', 'recipient_address': 'Bob5', 'value': 15, 'data': 'Hello Bob5!'}], 'author': 'Satoshi4', 'timestamp': 1695472657.271298, 'previous_hash': '000cc1e8297c23b289a754dc84e1511d884f6291b7e458ad5e086f78a02a1c8d', 'nonce': 13274, 'hash': '000741bdb7eaa818fe0b978e595bed548d7f69b31bbd8bda320b790ccc7519a5'},\n",
       "  {'index': 49, 'transactions': [{'sender_address': 'Alice', 'recipient_address': 'Bob', 'value': 10, 'data': 'Hello Bob!'}, {'sender_address': 'Bob', 'recipient_address': 'Alice', 'value': 5, 'data': 'Hello Alice!'}, {'sender_address': 'Alice3', 'recipient_address': 'Bob3', 'value': 13, 'data': 'Hello Bob3!'}, {'sender_address': 'Alice4', 'recipient_address': 'Bob4', 'value': 14, 'data': 'Hello Bob4!'}, {'sender_address': 'Alice5', 'recipient_address': 'Bob5', 'value': 15, 'data': 'Hello Bob5!'}], 'author': 'Satoshi3', 'timestamp': 1695472658.8430247, 'previous_hash': '000741bdb7eaa818fe0b978e595bed548d7f69b31bbd8bda320b790ccc7519a5', 'nonce': 5876, 'hash': '000792c934e5d2ce152308e9d9139800a074867c313b649c443bde53edbc1f23'},\n",
       "  {'index': 50, 'transactions': [{'sender_address': 'Alice', 'recipient_address': 'Bob', 'value': 10, 'data': 'Hello Bob!'}, {'sender_address': 'Bob', 'recipient_address': 'Alice', 'value': 5, 'data': 'Hello Alice!'}, {'sender_address': 'Alice3', 'recipient_address': 'Bob3', 'value': 13, 'data': 'Hello Bob3!'}, {'sender_address': 'Alice4', 'recipient_address': 'Bob4', 'value': 14, 'data': 'Hello Bob4!'}, {'sender_address': 'Alice5', 'recipient_address': 'Bob5', 'value': 15, 'data': 'Hello Bob5!'}], 'author': 'Satoshi3', 'timestamp': 1695472660.8448792, 'previous_hash': '000792c934e5d2ce152308e9d9139800a074867c313b649c443bde53edbc1f23', 'nonce': 4041, 'hash': '000d5ceb86609dbcef09c4fb714e5cd44ac18a2ac7070a26a59d0448de64d199'},\n",
       "  {'index': 51, 'transactions': [{'sender_address': 'Alice', 'recipient_address': 'Bob', 'value': 10, 'data': 'Hello Bob!'}, {'sender_address': 'Bob', 'recipient_address': 'Alice', 'value': 5, 'data': 'Hello Alice!'}, {'sender_address': 'Alice3', 'recipient_address': 'Bob3', 'value': 13, 'data': 'Hello Bob3!'}, {'sender_address': 'Alice4', 'recipient_address': 'Bob4', 'value': 14, 'data': 'Hello Bob4!'}, {'sender_address': 'Alice5', 'recipient_address': 'Bob5', 'value': 15, 'data': 'Hello Bob5!'}], 'author': 'Satoshi5', 'timestamp': 1695472662.8195927, 'previous_hash': '000d5ceb86609dbcef09c4fb714e5cd44ac18a2ac7070a26a59d0448de64d199', 'nonce': 5895, 'hash': '0006d0e9d51dc46369a717736cab08134e3aee376086d3fe122944942ca859c8'},\n",
       "  {'index': 52, 'transactions': [{'sender_address': 'Alice', 'recipient_address': 'Bob', 'value': 10, 'data': 'Hello Bob!'}, {'sender_address': 'Bob', 'recipient_address': 'Alice', 'value': 5, 'data': 'Hello Alice!'}, {'sender_address': 'Alice3', 'recipient_address': 'Bob3', 'value': 13, 'data': 'Hello Bob3!'}, {'sender_address': 'Alice4', 'recipient_address': 'Bob4', 'value': 14, 'data': 'Hello Bob4!'}, {'sender_address': 'Alice5', 'recipient_address': 'Bob5', 'value': 15, 'data': 'Hello Bob5!'}], 'author': 'Satoshi5', 'timestamp': 1695472664.8814712, 'previous_hash': '0006d0e9d51dc46369a717736cab08134e3aee376086d3fe122944942ca859c8', 'nonce': 9684, 'hash': '0008e637b5277d97e7ecce2d7a4a050980a69e6892beb79d4dda859b70d5ac21'},\n",
       "  {'index': 53, 'transactions': [{'sender_address': 'Alice', 'recipient_address': 'Bob', 'value': 10, 'data': 'Hello Bob!'}, {'sender_address': 'Bob', 'recipient_address': 'Alice', 'value': 5, 'data': 'Hello Alice!'}, {'sender_address': 'Alice3', 'recipient_address': 'Bob3', 'value': 13, 'data': 'Hello Bob3!'}, {'sender_address': 'Alice4', 'recipient_address': 'Bob4', 'value': 14, 'data': 'Hello Bob4!'}, {'sender_address': 'Alice5', 'recipient_address': 'Bob5', 'value': 15, 'data': 'Hello Bob5!'}], 'author': 'Satoshi7', 'timestamp': 1695472666.5161614, 'previous_hash': '0008e637b5277d97e7ecce2d7a4a050980a69e6892beb79d4dda859b70d5ac21', 'nonce': 12778, 'hash': '00088f7d61da207a6c7345d4899867c1d738cad067d15271d088353a9ba6b214'},\n",
       "  {'index': 54, 'transactions': [{'sender_address': 'Alice', 'recipient_address': 'Bob', 'value': 10, 'data': 'Hello Bob!'}, {'sender_address': 'Bob', 'recipient_address': 'Alice', 'value': 5, 'data': 'Hello Alice!'}, {'sender_address': 'Alice3', 'recipient_address': 'Bob3', 'value': 13, 'data': 'Hello Bob3!'}, {'sender_address': 'Alice4', 'recipient_address': 'Bob4', 'value': 14, 'data': 'Hello Bob4!'}, {'sender_address': 'Alice5', 'recipient_address': 'Bob5', 'value': 15, 'data': 'Hello Bob5!'}], 'author': 'Satoshi4', 'timestamp': 1695472668.8411963, 'previous_hash': '00088f7d61da207a6c7345d4899867c1d738cad067d15271d088353a9ba6b214', 'nonce': 15898, 'hash': '00087ee55a1a662fd6e60df665f404b1f358e152872a8b5ffe241795431ac1c0'},\n",
       "  {'index': 55, 'transactions': [{'sender_address': 'Alice', 'recipient_address': 'Bob', 'value': 10, 'data': 'Hello Bob!'}, {'sender_address': 'Bob', 'recipient_address': 'Alice', 'value': 5, 'data': 'Hello Alice!'}, {'sender_address': 'Alice3', 'recipient_address': 'Bob3', 'value': 13, 'data': 'Hello Bob3!'}, {'sender_address': 'Alice4', 'recipient_address': 'Bob4', 'value': 14, 'data': 'Hello Bob4!'}, {'sender_address': 'Alice5', 'recipient_address': 'Bob5', 'value': 15, 'data': 'Hello Bob5!'}], 'author': 'Satoshi6', 'timestamp': 1695472670.1305482, 'previous_hash': '00087ee55a1a662fd6e60df665f404b1f358e152872a8b5ffe241795431ac1c0', 'nonce': 8488, 'hash': '000a78aab06baaa7f84e01b33d53e943c6d3260362feb3987d8b8975c558adeb'},\n",
       "  {'index': 56, 'transactions': [{'sender_address': 'Alice', 'recipient_address': 'Bob', 'value': 10, 'data': 'Hello Bob!'}, {'sender_address': 'Bob', 'recipient_address': 'Alice', 'value': 5, 'data': 'Hello Alice!'}, {'sender_address': 'Alice3', 'recipient_address': 'Bob3', 'value': 13, 'data': 'Hello Bob3!'}, {'sender_address': 'Alice4', 'recipient_address': 'Bob4', 'value': 14, 'data': 'Hello Bob4!'}, {'sender_address': 'Alice5', 'recipient_address': 'Bob5', 'value': 15, 'data': 'Hello Bob5!'}], 'author': 'Satoshi7', 'timestamp': 1695472672.0772681, 'previous_hash': '000a78aab06baaa7f84e01b33d53e943c6d3260362feb3987d8b8975c558adeb', 'nonce': 8176, 'hash': '0008de291d9fc60ad4037f302ea688e1d797ba8642930d5c752d8b3ad757fc36'},\n",
       "  {'index': 57, 'transactions': [{'sender_address': 'Alice', 'recipient_address': 'Bob', 'value': 10, 'data': 'Hello Bob!'}, {'sender_address': 'Bob', 'recipient_address': 'Alice', 'value': 5, 'data': 'Hello Alice!'}, {'sender_address': 'Alice3', 'recipient_address': 'Bob3', 'value': 13, 'data': 'Hello Bob3!'}, {'sender_address': 'Alice4', 'recipient_address': 'Bob4', 'value': 14, 'data': 'Hello Bob4!'}, {'sender_address': 'Alice5', 'recipient_address': 'Bob5', 'value': 15, 'data': 'Hello Bob5!'}], 'author': 'Satoshi3', 'timestamp': 1695472673.3683722, 'previous_hash': '0008de291d9fc60ad4037f302ea688e1d797ba8642930d5c752d8b3ad757fc36', 'nonce': 6143, 'hash': '000d17cbe16087e73d523759adf7f5e3b8b63df6ca56e7cc4a659f233fb53c39'},\n",
       "  {'index': 58, 'transactions': [{'sender_address': 'Alice', 'recipient_address': 'Bob', 'value': 10, 'data': 'Hello Bob!'}, {'sender_address': 'Bob', 'recipient_address': 'Alice', 'value': 5, 'data': 'Hello Alice!'}, {'sender_address': 'Alice3', 'recipient_address': 'Bob3', 'value': 13, 'data': 'Hello Bob3!'}, {'sender_address': 'Alice4', 'recipient_address': 'Bob4', 'value': 14, 'data': 'Hello Bob4!'}, {'sender_address': 'Alice5', 'recipient_address': 'Bob5', 'value': 15, 'data': 'Hello Bob5!'}], 'author': 'Satoshi7', 'timestamp': 1695472675.129568, 'previous_hash': '000d17cbe16087e73d523759adf7f5e3b8b63df6ca56e7cc4a659f233fb53c39', 'nonce': 5919, 'hash': '000237f25952b5cc0d7962290295db4d39763f75873badddedb903d9bb687681'},\n",
       "  {'index': 59, 'transactions': [{'sender_address': 'Alice', 'recipient_address': 'Bob', 'value': 10, 'data': 'Hello Bob!'}, {'sender_address': 'Bob', 'recipient_address': 'Alice', 'value': 5, 'data': 'Hello Alice!'}, {'sender_address': 'Alice3', 'recipient_address': 'Bob3', 'value': 13, 'data': 'Hello Bob3!'}, {'sender_address': 'Alice4', 'recipient_address': 'Bob4', 'value': 14, 'data': 'Hello Bob4!'}, {'sender_address': 'Alice5', 'recipient_address': 'Bob5', 'value': 15, 'data': 'Hello Bob5!'}], 'author': 'Satoshi6', 'timestamp': 1695472676.7312598, 'previous_hash': '000237f25952b5cc0d7962290295db4d39763f75873badddedb903d9bb687681', 'nonce': 1178, 'hash': '000c14e63924a146d0fb49881f929c96d1b6da0ea701dcd7e75b3528e55554f0'},\n",
       "  {'index': 60, 'transactions': [{'sender_address': 'Alice', 'recipient_address': 'Bob', 'value': 10, 'data': 'Hello Bob!'}, {'sender_address': 'Bob', 'recipient_address': 'Alice', 'value': 5, 'data': 'Hello Alice!'}, {'sender_address': 'Alice3', 'recipient_address': 'Bob3', 'value': 13, 'data': 'Hello Bob3!'}, {'sender_address': 'Alice4', 'recipient_address': 'Bob4', 'value': 14, 'data': 'Hello Bob4!'}, {'sender_address': 'Alice5', 'recipient_address': 'Bob5', 'value': 15, 'data': 'Hello Bob5!'}], 'author': 'Satoshi7', 'timestamp': 1695472678.4473908, 'previous_hash': '000c14e63924a146d0fb49881f929c96d1b6da0ea701dcd7e75b3528e55554f0', 'nonce': 7929, 'hash': '000d2d3eb22068bc8acf6b256cf77fa9e9357babcf5e6b620792ac59d0fe583b'},\n",
       "  {'index': 61, 'transactions': [{'sender_address': 'Alice', 'recipient_address': 'Bob', 'value': 10, 'data': 'Hello Bob!'}, {'sender_address': 'Bob', 'recipient_address': 'Alice', 'value': 5, 'data': 'Hello Alice!'}, {'sender_address': 'Alice3', 'recipient_address': 'Bob3', 'value': 13, 'data': 'Hello Bob3!'}, {'sender_address': 'Alice4', 'recipient_address': 'Bob4', 'value': 14, 'data': 'Hello Bob4!'}, {'sender_address': 'Alice5', 'recipient_address': 'Bob5', 'value': 15, 'data': 'Hello Bob5!'}], 'author': 'Satoshi6', 'timestamp': 1695472679.5163066, 'previous_hash': '000d2d3eb22068bc8acf6b256cf77fa9e9357babcf5e6b620792ac59d0fe583b', 'nonce': 9946, 'hash': '00090357cf4f1ae68a9c56127ebb9e0b68aa7751905ddfc242d729c898c1b0f6'},\n",
       "  {'index': 62, 'transactions': [{'sender_address': 'Alice', 'recipient_address': 'Bob', 'value': 10, 'data': 'Hello Bob!'}, {'sender_address': 'Bob', 'recipient_address': 'Alice', 'value': 5, 'data': 'Hello Alice!'}, {'sender_address': 'Alice3', 'recipient_address': 'Bob3', 'value': 13, 'data': 'Hello Bob3!'}, {'sender_address': 'Alice4', 'recipient_address': 'Bob4', 'value': 14, 'data': 'Hello Bob4!'}, {'sender_address': 'Alice5', 'recipient_address': 'Bob5', 'value': 15, 'data': 'Hello Bob5!'}], 'author': 'Satoshi4', 'timestamp': 1695472681.1539054, 'previous_hash': '00090357cf4f1ae68a9c56127ebb9e0b68aa7751905ddfc242d729c898c1b0f6', 'nonce': 7169, 'hash': '000b1e7b498b26965d28926a44c1c0d009e9cdc0672634eccc731e201c9adde9'},\n",
       "  {'index': 63, 'transactions': [{'sender_address': 'Alice', 'recipient_address': 'Bob', 'value': 10, 'data': 'Hello Bob!'}, {'sender_address': 'Bob', 'recipient_address': 'Alice', 'value': 5, 'data': 'Hello Alice!'}, {'sender_address': 'Alice3', 'recipient_address': 'Bob3', 'value': 13, 'data': 'Hello Bob3!'}, {'sender_address': 'Alice4', 'recipient_address': 'Bob4', 'value': 14, 'data': 'Hello Bob4!'}, {'sender_address': 'Alice5', 'recipient_address': 'Bob5', 'value': 15, 'data': 'Hello Bob5!'}], 'author': 'Satoshi7', 'timestamp': 1695472682.5543294, 'previous_hash': '000b1e7b498b26965d28926a44c1c0d009e9cdc0672634eccc731e201c9adde9', 'nonce': 3389, 'hash': '0009830e966d74824de1d924d869ac0e000f7a86b4bbab4f0aaeda3085f0a16b'},\n",
       "  {'index': 64, 'transactions': [{'sender_address': 'Alice', 'recipient_address': 'Bob', 'value': 10, 'data': 'Hello Bob!'}, {'sender_address': 'Bob', 'recipient_address': 'Alice', 'value': 5, 'data': 'Hello Alice!'}, {'sender_address': 'Alice3', 'recipient_address': 'Bob3', 'value': 13, 'data': 'Hello Bob3!'}, {'sender_address': 'Alice4', 'recipient_address': 'Bob4', 'value': 14, 'data': 'Hello Bob4!'}, {'sender_address': 'Alice5', 'recipient_address': 'Bob5', 'value': 15, 'data': 'Hello Bob5!'}], 'author': 'Satoshi6', 'timestamp': 1695472683.719675, 'previous_hash': '0009830e966d74824de1d924d869ac0e000f7a86b4bbab4f0aaeda3085f0a16b', 'nonce': 5341, 'hash': '000e9c471b360434317ed3f746fdcffd8f0dc7ddda6d8cd1f85e2b3fbc85d96c'},\n",
       "  {'index': 65, 'transactions': [{'sender_address': 'Alice', 'recipient_address': 'Bob', 'value': 10, 'data': 'Hello Bob!'}, {'sender_address': 'Bob', 'recipient_address': 'Alice', 'value': 5, 'data': 'Hello Alice!'}, {'sender_address': 'Alice3', 'recipient_address': 'Bob3', 'value': 13, 'data': 'Hello Bob3!'}, {'sender_address': 'Alice4', 'recipient_address': 'Bob4', 'value': 14, 'data': 'Hello Bob4!'}, {'sender_address': 'Alice5', 'recipient_address': 'Bob5', 'value': 15, 'data': 'Hello Bob5!'}], 'author': 'Satoshi6', 'timestamp': 1695472685.040344, 'previous_hash': '000e9c471b360434317ed3f746fdcffd8f0dc7ddda6d8cd1f85e2b3fbc85d96c', 'nonce': 9458, 'hash': '000280ca199f5d4e7642efad84709ff3bffd21ac7d3783581b25d54ce0bdc77c'},\n",
       "  {'index': 66, 'transactions': [{'sender_address': 'Alice', 'recipient_address': 'Bob', 'value': 10, 'data': 'Hello Bob!'}, {'sender_address': 'Bob', 'recipient_address': 'Alice', 'value': 5, 'data': 'Hello Alice!'}, {'sender_address': 'Alice3', 'recipient_address': 'Bob3', 'value': 13, 'data': 'Hello Bob3!'}, {'sender_address': 'Alice4', 'recipient_address': 'Bob4', 'value': 14, 'data': 'Hello Bob4!'}, {'sender_address': 'Alice5', 'recipient_address': 'Bob5', 'value': 15, 'data': 'Hello Bob5!'}], 'author': 'Satoshi6', 'timestamp': 1695472687.003342, 'previous_hash': '000280ca199f5d4e7642efad84709ff3bffd21ac7d3783581b25d54ce0bdc77c', 'nonce': 10053, 'hash': '000164d493f466e549a1d83fadaea1db938dea80384d13ccda0b82b66b1c5081'},\n",
       "  {'index': 67, 'transactions': [{'sender_address': 'Alice', 'recipient_address': 'Bob', 'value': 10, 'data': 'Hello Bob!'}, {'sender_address': 'Bob', 'recipient_address': 'Alice', 'value': 5, 'data': 'Hello Alice!'}, {'sender_address': 'Alice3', 'recipient_address': 'Bob3', 'value': 13, 'data': 'Hello Bob3!'}, {'sender_address': 'Alice4', 'recipient_address': 'Bob4', 'value': 14, 'data': 'Hello Bob4!'}, {'sender_address': 'Alice5', 'recipient_address': 'Bob5', 'value': 15, 'data': 'Hello Bob5!'}], 'author': 'Satoshi6', 'timestamp': 1695472688.463206, 'previous_hash': '000164d493f466e549a1d83fadaea1db938dea80384d13ccda0b82b66b1c5081', 'nonce': 13750, 'hash': '000601390bb7606c266b4677a6c1ff8c8fc08f771037278f6a9c1e4c2d0d612c'},\n",
       "  {'index': 68, 'transactions': [{'sender_address': 'Alice', 'recipient_address': 'Bob', 'value': 10, 'data': 'Hello Bob!'}, {'sender_address': 'Bob', 'recipient_address': 'Alice', 'value': 5, 'data': 'Hello Alice!'}, {'sender_address': 'Alice3', 'recipient_address': 'Bob3', 'value': 13, 'data': 'Hello Bob3!'}, {'sender_address': 'Alice4', 'recipient_address': 'Bob4', 'value': 14, 'data': 'Hello Bob4!'}, {'sender_address': 'Alice5', 'recipient_address': 'Bob5', 'value': 15, 'data': 'Hello Bob5!'}], 'author': 'Satoshi7', 'timestamp': 1695472690.602117, 'previous_hash': '000601390bb7606c266b4677a6c1ff8c8fc08f771037278f6a9c1e4c2d0d612c', 'nonce': 382, 'hash': '00034b4ec00ba9c3b4a0bac9be21b5b75f4df89ff37cc4a6eab92cbf516cc8ae'},\n",
       "  {'index': 69, 'transactions': [{'sender_address': 'Alice', 'recipient_address': 'Bob', 'value': 10, 'data': 'Hello Bob!'}, {'sender_address': 'Bob', 'recipient_address': 'Alice', 'value': 5, 'data': 'Hello Alice!'}, {'sender_address': 'Alice3', 'recipient_address': 'Bob3', 'value': 13, 'data': 'Hello Bob3!'}, {'sender_address': 'Alice4', 'recipient_address': 'Bob4', 'value': 14, 'data': 'Hello Bob4!'}, {'sender_address': 'Alice5', 'recipient_address': 'Bob5', 'value': 15, 'data': 'Hello Bob5!'}], 'author': 'Satoshi7', 'timestamp': 1695472692.1772006, 'previous_hash': '00034b4ec00ba9c3b4a0bac9be21b5b75f4df89ff37cc4a6eab92cbf516cc8ae', 'nonce': 7242, 'hash': '0001d39a02164bd6b5009057d947dcd381be8c90b5170139d34886ab267d115e'},\n",
       "  {'index': 70, 'transactions': [{'sender_address': 'Alice', 'recipient_address': 'Bob', 'value': 10, 'data': 'Hello Bob!'}, {'sender_address': 'Bob', 'recipient_address': 'Alice', 'value': 5, 'data': 'Hello Alice!'}, {'sender_address': 'Alice3', 'recipient_address': 'Bob3', 'value': 13, 'data': 'Hello Bob3!'}, {'sender_address': 'Alice4', 'recipient_address': 'Bob4', 'value': 14, 'data': 'Hello Bob4!'}, {'sender_address': 'Alice5', 'recipient_address': 'Bob5', 'value': 15, 'data': 'Hello Bob5!'}], 'author': 'Satoshi4', 'timestamp': 1695472694.2859647, 'previous_hash': '0001d39a02164bd6b5009057d947dcd381be8c90b5170139d34886ab267d115e', 'nonce': 7632, 'hash': '0002f4dd27112a90333b0f794ba7ffe5257e23a3e23ce4c23cbbf4e5d3dce8cf'},\n",
       "  {'index': 71, 'transactions': [{'sender_address': 'Alice', 'recipient_address': 'Bob', 'value': 10, 'data': 'Hello Bob!'}, {'sender_address': 'Bob', 'recipient_address': 'Alice', 'value': 5, 'data': 'Hello Alice!'}, {'sender_address': 'Alice3', 'recipient_address': 'Bob3', 'value': 13, 'data': 'Hello Bob3!'}, {'sender_address': 'Alice4', 'recipient_address': 'Bob4', 'value': 14, 'data': 'Hello Bob4!'}, {'sender_address': 'Alice5', 'recipient_address': 'Bob5', 'value': 15, 'data': 'Hello Bob5!'}], 'author': 'Satoshi5', 'timestamp': 1695472695.4950535, 'previous_hash': '0002f4dd27112a90333b0f794ba7ffe5257e23a3e23ce4c23cbbf4e5d3dce8cf', 'nonce': 6404, 'hash': '00043b0b391296f218dfbfb0ab8e40c46da3fe6ddd8ab2843495a240c9d17f4d'},\n",
       "  {'index': 72, 'transactions': [{'sender_address': 'Alice', 'recipient_address': 'Bob', 'value': 10, 'data': 'Hello Bob!'}, {'sender_address': 'Bob', 'recipient_address': 'Alice', 'value': 5, 'data': 'Hello Alice!'}, {'sender_address': 'Alice3', 'recipient_address': 'Bob3', 'value': 13, 'data': 'Hello Bob3!'}, {'sender_address': 'Alice4', 'recipient_address': 'Bob4', 'value': 14, 'data': 'Hello Bob4!'}, {'sender_address': 'Alice5', 'recipient_address': 'Bob5', 'value': 15, 'data': 'Hello Bob5!'}], 'author': 'Satoshi6', 'timestamp': 1695472697.362165, 'previous_hash': '00043b0b391296f218dfbfb0ab8e40c46da3fe6ddd8ab2843495a240c9d17f4d', 'nonce': 7448, 'hash': '000144cb2b20da1c0824bd6b7e1728df35679c873c974460f0c898b5617f4160'},\n",
       "  {'index': 73, 'transactions': [{'sender_address': 'Alice', 'recipient_address': 'Bob', 'value': 10, 'data': 'Hello Bob!'}, {'sender_address': 'Bob', 'recipient_address': 'Alice', 'value': 5, 'data': 'Hello Alice!'}, {'sender_address': 'Alice3', 'recipient_address': 'Bob3', 'value': 13, 'data': 'Hello Bob3!'}, {'sender_address': 'Alice4', 'recipient_address': 'Bob4', 'value': 14, 'data': 'Hello Bob4!'}, {'sender_address': 'Alice5', 'recipient_address': 'Bob5', 'value': 15, 'data': 'Hello Bob5!'}], 'author': 'Satoshi4', 'timestamp': 1695472698.79188, 'previous_hash': '000144cb2b20da1c0824bd6b7e1728df35679c873c974460f0c898b5617f4160', 'nonce': 6805, 'hash': '00083615c9629336183de49581530c05dfcfded75181231e5c05401e085def33'},\n",
       "  {'index': 74, 'transactions': [{'sender_address': 'Alice', 'recipient_address': 'Bob', 'value': 10, 'data': 'Hello Bob!'}, {'sender_address': 'Bob', 'recipient_address': 'Alice', 'value': 5, 'data': 'Hello Alice!'}, {'sender_address': 'Alice3', 'recipient_address': 'Bob3', 'value': 13, 'data': 'Hello Bob3!'}, {'sender_address': 'Alice4', 'recipient_address': 'Bob4', 'value': 14, 'data': 'Hello Bob4!'}, {'sender_address': 'Alice5', 'recipient_address': 'Bob5', 'value': 15, 'data': 'Hello Bob5!'}], 'author': 'Satoshi7', 'timestamp': 1695472700.0490985, 'previous_hash': '00083615c9629336183de49581530c05dfcfded75181231e5c05401e085def33', 'nonce': 89, 'hash': '00082b3a30a04d7828fcb0c39ac9ce34e4419ae9ca94350d3db9f8dac07bbb60'},\n",
       "  {'index': 75, 'transactions': [{'sender_address': 'Alice', 'recipient_address': 'Bob', 'value': 10, 'data': 'Hello Bob!'}, {'sender_address': 'Bob', 'recipient_address': 'Alice', 'value': 5, 'data': 'Hello Alice!'}, {'sender_address': 'Alice3', 'recipient_address': 'Bob3', 'value': 13, 'data': 'Hello Bob3!'}, {'sender_address': 'Alice4', 'recipient_address': 'Bob4', 'value': 14, 'data': 'Hello Bob4!'}, {'sender_address': 'Alice5', 'recipient_address': 'Bob5', 'value': 15, 'data': 'Hello Bob5!'}], 'author': 'Satoshi6', 'timestamp': 1695472701.3858025, 'previous_hash': '00082b3a30a04d7828fcb0c39ac9ce34e4419ae9ca94350d3db9f8dac07bbb60', 'nonce': 5324, 'hash': '000e41472731d87c1b4376edfa28f4efd1255de6b8d79a18d3e8b8941d9e5228'},\n",
       "  {'index': 76, 'transactions': [{'sender_address': 'Alice', 'recipient_address': 'Bob', 'value': 10, 'data': 'Hello Bob!'}, {'sender_address': 'Bob', 'recipient_address': 'Alice', 'value': 5, 'data': 'Hello Alice!'}, {'sender_address': 'Alice3', 'recipient_address': 'Bob3', 'value': 13, 'data': 'Hello Bob3!'}, {'sender_address': 'Alice4', 'recipient_address': 'Bob4', 'value': 14, 'data': 'Hello Bob4!'}, {'sender_address': 'Alice5', 'recipient_address': 'Bob5', 'value': 15, 'data': 'Hello Bob5!'}], 'author': 'Satoshi7', 'timestamp': 1695472703.3816476, 'previous_hash': '000e41472731d87c1b4376edfa28f4efd1255de6b8d79a18d3e8b8941d9e5228', 'nonce': 2132, 'hash': '000a80c1e2ea932dc8625423e408ef8bd341aec028e559177d09e8e7f674c37e'},\n",
       "  {'index': 77, 'transactions': [{'sender_address': 'Alice', 'recipient_address': 'Bob', 'value': 10, 'data': 'Hello Bob!'}, {'sender_address': 'Bob', 'recipient_address': 'Alice', 'value': 5, 'data': 'Hello Alice!'}, {'sender_address': 'Alice3', 'recipient_address': 'Bob3', 'value': 13, 'data': 'Hello Bob3!'}, {'sender_address': 'Alice4', 'recipient_address': 'Bob4', 'value': 14, 'data': 'Hello Bob4!'}, {'sender_address': 'Alice5', 'recipient_address': 'Bob5', 'value': 15, 'data': 'Hello Bob5!'}], 'author': 'Satoshi7', 'timestamp': 1695472704.624641, 'previous_hash': '000a80c1e2ea932dc8625423e408ef8bd341aec028e559177d09e8e7f674c37e', 'nonce': 4038, 'hash': '000e21dd0e9bf34a1609dc94314f080aa69b81b96d801c6d77adaebfe8a2f477'},\n",
       "  {'index': 78, 'transactions': [{'sender_address': 'Alice', 'recipient_address': 'Bob', 'value': 10, 'data': 'Hello Bob!'}, {'sender_address': 'Bob', 'recipient_address': 'Alice', 'value': 5, 'data': 'Hello Alice!'}, {'sender_address': 'Alice3', 'recipient_address': 'Bob3', 'value': 13, 'data': 'Hello Bob3!'}, {'sender_address': 'Alice4', 'recipient_address': 'Bob4', 'value': 14, 'data': 'Hello Bob4!'}, {'sender_address': 'Alice5', 'recipient_address': 'Bob5', 'value': 15, 'data': 'Hello Bob5!'}], 'author': 'Satoshi3', 'timestamp': 1695472706.2373528, 'previous_hash': '000e21dd0e9bf34a1609dc94314f080aa69b81b96d801c6d77adaebfe8a2f477', 'nonce': 4299, 'hash': '000547ce181d8dc928fb4d65c06db2c00d71f3bf1cced3bb9ff6b8614f0dfba3'},\n",
       "  {'index': 79, 'transactions': [{'sender_address': 'Alice', 'recipient_address': 'Bob', 'value': 10, 'data': 'Hello Bob!'}, {'sender_address': 'Bob', 'recipient_address': 'Alice', 'value': 5, 'data': 'Hello Alice!'}, {'sender_address': 'Alice3', 'recipient_address': 'Bob3', 'value': 13, 'data': 'Hello Bob3!'}, {'sender_address': 'Alice4', 'recipient_address': 'Bob4', 'value': 14, 'data': 'Hello Bob4!'}, {'sender_address': 'Alice5', 'recipient_address': 'Bob5', 'value': 15, 'data': 'Hello Bob5!'}], 'author': 'Satoshi7', 'timestamp': 1695472707.8897595, 'previous_hash': '000547ce181d8dc928fb4d65c06db2c00d71f3bf1cced3bb9ff6b8614f0dfba3', 'nonce': 6579, 'hash': '000e846f031ff71f19441b6f98dbc25721dfd823442104ca638263f413ee61a9'},\n",
       "  {'index': 80, 'transactions': [{'sender_address': 'Alice', 'recipient_address': 'Bob', 'value': 10, 'data': 'Hello Bob!'}, {'sender_address': 'Bob', 'recipient_address': 'Alice', 'value': 5, 'data': 'Hello Alice!'}, {'sender_address': 'Alice3', 'recipient_address': 'Bob3', 'value': 13, 'data': 'Hello Bob3!'}, {'sender_address': 'Alice4', 'recipient_address': 'Bob4', 'value': 14, 'data': 'Hello Bob4!'}, {'sender_address': 'Alice5', 'recipient_address': 'Bob5', 'value': 15, 'data': 'Hello Bob5!'}], 'author': 'Satoshi5', 'timestamp': 1695472708.992934, 'previous_hash': '000e846f031ff71f19441b6f98dbc25721dfd823442104ca638263f413ee61a9', 'nonce': 8486, 'hash': '000744eea22bdf304a4bd854432462881e5a8e784c4d63988420331b5c931cbb'},\n",
       "  {'index': 81, 'transactions': [{'sender_address': 'Alice', 'recipient_address': 'Bob', 'value': 10, 'data': 'Hello Bob!'}, {'sender_address': 'Bob', 'recipient_address': 'Alice', 'value': 5, 'data': 'Hello Alice!'}, {'sender_address': 'Alice3', 'recipient_address': 'Bob3', 'value': 13, 'data': 'Hello Bob3!'}, {'sender_address': 'Alice4', 'recipient_address': 'Bob4', 'value': 14, 'data': 'Hello Bob4!'}, {'sender_address': 'Alice5', 'recipient_address': 'Bob5', 'value': 15, 'data': 'Hello Bob5!'}], 'author': 'Satoshi7', 'timestamp': 1695472710.6703465, 'previous_hash': '000744eea22bdf304a4bd854432462881e5a8e784c4d63988420331b5c931cbb', 'nonce': 1377, 'hash': '0006bd05c08ddd3e1d75f47470ff15ec6e09b6b1605c7f8428d0dbadbfb869ef'},\n",
       "  {'index': 82, 'transactions': [{'sender_address': 'Alice', 'recipient_address': 'Bob', 'value': 10, 'data': 'Hello Bob!'}, {'sender_address': 'Bob', 'recipient_address': 'Alice', 'value': 5, 'data': 'Hello Alice!'}, {'sender_address': 'Alice3', 'recipient_address': 'Bob3', 'value': 13, 'data': 'Hello Bob3!'}, {'sender_address': 'Alice4', 'recipient_address': 'Bob4', 'value': 14, 'data': 'Hello Bob4!'}, {'sender_address': 'Alice5', 'recipient_address': 'Bob5', 'value': 15, 'data': 'Hello Bob5!'}], 'author': 'Satoshi6', 'timestamp': 1695472712.344928, 'previous_hash': '0006bd05c08ddd3e1d75f47470ff15ec6e09b6b1605c7f8428d0dbadbfb869ef', 'nonce': 6594, 'hash': '0004df03e64cdd6c19b6df89a4c4e20edda458b05741b040732b57bf7d6c48ef'},\n",
       "  {'index': 83, 'transactions': [{'sender_address': 'Alice', 'recipient_address': 'Bob', 'value': 10, 'data': 'Hello Bob!'}, {'sender_address': 'Bob', 'recipient_address': 'Alice', 'value': 5, 'data': 'Hello Alice!'}, {'sender_address': 'Alice3', 'recipient_address': 'Bob3', 'value': 13, 'data': 'Hello Bob3!'}, {'sender_address': 'Alice4', 'recipient_address': 'Bob4', 'value': 14, 'data': 'Hello Bob4!'}, {'sender_address': 'Alice5', 'recipient_address': 'Bob5', 'value': 15, 'data': 'Hello Bob5!'}], 'author': 'Satoshi6', 'timestamp': 1695472713.9187145, 'previous_hash': '0004df03e64cdd6c19b6df89a4c4e20edda458b05741b040732b57bf7d6c48ef', 'nonce': 7675, 'hash': '00070dad394b8b80f2926c6922dc126597acd9c9b60dc49c12fc13fb5c624be4'},\n",
       "  {'index': 84, 'transactions': [{'sender_address': 'Alice', 'recipient_address': 'Bob', 'value': 10, 'data': 'Hello Bob!'}, {'sender_address': 'Bob', 'recipient_address': 'Alice', 'value': 5, 'data': 'Hello Alice!'}, {'sender_address': 'Alice3', 'recipient_address': 'Bob3', 'value': 13, 'data': 'Hello Bob3!'}, {'sender_address': 'Alice4', 'recipient_address': 'Bob4', 'value': 14, 'data': 'Hello Bob4!'}, {'sender_address': 'Alice5', 'recipient_address': 'Bob5', 'value': 15, 'data': 'Hello Bob5!'}], 'author': 'Satoshi3', 'timestamp': 1695472715.0078912, 'previous_hash': '00070dad394b8b80f2926c6922dc126597acd9c9b60dc49c12fc13fb5c624be4', 'nonce': 9008, 'hash': '0002df266efb252aad1c4f48fcee1c340fbe922c285775ad9d320e7cd5f074c0'},\n",
       "  {'index': 85, 'transactions': [{'sender_address': 'Alice', 'recipient_address': 'Bob', 'value': 10, 'data': 'Hello Bob!'}, {'sender_address': 'Bob', 'recipient_address': 'Alice', 'value': 5, 'data': 'Hello Alice!'}, {'sender_address': 'Alice3', 'recipient_address': 'Bob3', 'value': 13, 'data': 'Hello Bob3!'}, {'sender_address': 'Alice4', 'recipient_address': 'Bob4', 'value': 14, 'data': 'Hello Bob4!'}, {'sender_address': 'Alice5', 'recipient_address': 'Bob5', 'value': 15, 'data': 'Hello Bob5!'}], 'author': 'Satoshi5', 'timestamp': 1695472716.6036189, 'previous_hash': '0002df266efb252aad1c4f48fcee1c340fbe922c285775ad9d320e7cd5f074c0', 'nonce': 10346, 'hash': '000deab399f1e476dce6c7e4c8e2155696259a23fa017e9bdade231e5cc884d0'},\n",
       "  {'index': 86, 'transactions': [{'sender_address': 'Alice', 'recipient_address': 'Bob', 'value': 10, 'data': 'Hello Bob!'}, {'sender_address': 'Bob', 'recipient_address': 'Alice', 'value': 5, 'data': 'Hello Alice!'}, {'sender_address': 'Alice3', 'recipient_address': 'Bob3', 'value': 13, 'data': 'Hello Bob3!'}, {'sender_address': 'Alice4', 'recipient_address': 'Bob4', 'value': 14, 'data': 'Hello Bob4!'}, {'sender_address': 'Alice5', 'recipient_address': 'Bob5', 'value': 15, 'data': 'Hello Bob5!'}], 'author': 'Satoshi6', 'timestamp': 1695472718.2510734, 'previous_hash': '000deab399f1e476dce6c7e4c8e2155696259a23fa017e9bdade231e5cc884d0', 'nonce': 437, 'hash': '00063c5742b9ff68e1f91f6d884123a6918a79efc9f0e9e1aa71b5910e99cd5f'},\n",
       "  {'index': 87, 'transactions': [{'sender_address': 'Alice', 'recipient_address': 'Bob', 'value': 10, 'data': 'Hello Bob!'}, {'sender_address': 'Bob', 'recipient_address': 'Alice', 'value': 5, 'data': 'Hello Alice!'}, {'sender_address': 'Alice3', 'recipient_address': 'Bob3', 'value': 13, 'data': 'Hello Bob3!'}, {'sender_address': 'Alice4', 'recipient_address': 'Bob4', 'value': 14, 'data': 'Hello Bob4!'}, {'sender_address': 'Alice5', 'recipient_address': 'Bob5', 'value': 15, 'data': 'Hello Bob5!'}], 'author': 'Satoshi5', 'timestamp': 1695472719.447989, 'previous_hash': '00063c5742b9ff68e1f91f6d884123a6918a79efc9f0e9e1aa71b5910e99cd5f', 'nonce': 11949, 'hash': '000fb7ed077d267bfff0758b6267ce4b66b77f054b04b2311bd48d7d80310984'},\n",
       "  {'index': 88, 'transactions': [{'sender_address': 'Alice', 'recipient_address': 'Bob', 'value': 10, 'data': 'Hello Bob!'}, {'sender_address': 'Bob', 'recipient_address': 'Alice', 'value': 5, 'data': 'Hello Alice!'}, {'sender_address': 'Alice3', 'recipient_address': 'Bob3', 'value': 13, 'data': 'Hello Bob3!'}, {'sender_address': 'Alice4', 'recipient_address': 'Bob4', 'value': 14, 'data': 'Hello Bob4!'}, {'sender_address': 'Alice5', 'recipient_address': 'Bob5', 'value': 15, 'data': 'Hello Bob5!'}], 'author': 'Satoshi4', 'timestamp': 1695472721.5068815, 'previous_hash': '000fb7ed077d267bfff0758b6267ce4b66b77f054b04b2311bd48d7d80310984', 'nonce': 23418, 'hash': '00008254f824fe2a48c94f221eed576d876b108bf2d02f52ee7b6b4e959fea38'},\n",
       "  {'index': 89, 'transactions': [{'sender_address': 'Alice', 'recipient_address': 'Bob', 'value': 10, 'data': 'Hello Bob!'}, {'sender_address': 'Bob', 'recipient_address': 'Alice', 'value': 5, 'data': 'Hello Alice!'}, {'sender_address': 'Alice3', 'recipient_address': 'Bob3', 'value': 13, 'data': 'Hello Bob3!'}, {'sender_address': 'Alice4', 'recipient_address': 'Bob4', 'value': 14, 'data': 'Hello Bob4!'}, {'sender_address': 'Alice5', 'recipient_address': 'Bob5', 'value': 15, 'data': 'Hello Bob5!'}], 'author': 'Satoshi3', 'timestamp': 1695472723.3594332, 'previous_hash': '00008254f824fe2a48c94f221eed576d876b108bf2d02f52ee7b6b4e959fea38', 'nonce': 3752, 'hash': '000b280968737b1a8d524a90beea8b559044f2a5beea77d77a10c84394c4a242'},\n",
       "  {'index': 90, 'transactions': [{'sender_address': 'Alice', 'recipient_address': 'Bob', 'value': 10, 'data': 'Hello Bob!'}, {'sender_address': 'Bob', 'recipient_address': 'Alice', 'value': 5, 'data': 'Hello Alice!'}, {'sender_address': 'Alice3', 'recipient_address': 'Bob3', 'value': 13, 'data': 'Hello Bob3!'}, {'sender_address': 'Alice4', 'recipient_address': 'Bob4', 'value': 14, 'data': 'Hello Bob4!'}, {'sender_address': 'Alice5', 'recipient_address': 'Bob5', 'value': 15, 'data': 'Hello Bob5!'}], 'author': 'Satoshi4', 'timestamp': 1695472725.0398605, 'previous_hash': '000b280968737b1a8d524a90beea8b559044f2a5beea77d77a10c84394c4a242', 'nonce': 4733, 'hash': '000945f0a84240fc905309b540c59fffdc05800834c06b653cd108090ebbea22'},\n",
       "  {'index': 91, 'transactions': [{'sender_address': 'Alice', 'recipient_address': 'Bob', 'value': 10, 'data': 'Hello Bob!'}, {'sender_address': 'Bob', 'recipient_address': 'Alice', 'value': 5, 'data': 'Hello Alice!'}, {'sender_address': 'Alice3', 'recipient_address': 'Bob3', 'value': 13, 'data': 'Hello Bob3!'}, {'sender_address': 'Alice4', 'recipient_address': 'Bob4', 'value': 14, 'data': 'Hello Bob4!'}, {'sender_address': 'Alice5', 'recipient_address': 'Bob5', 'value': 15, 'data': 'Hello Bob5!'}], 'author': 'Satoshi5', 'timestamp': 1695472726.7983572, 'previous_hash': '000945f0a84240fc905309b540c59fffdc05800834c06b653cd108090ebbea22', 'nonce': 12327, 'hash': '0009536be4d48c7f1472f21751174e640a5ae2c84ef13a23a5357c901d0d39c2'},\n",
       "  {'index': 92, 'transactions': [{'sender_address': 'Alice', 'recipient_address': 'Bob', 'value': 10, 'data': 'Hello Bob!'}, {'sender_address': 'Bob', 'recipient_address': 'Alice', 'value': 5, 'data': 'Hello Alice!'}, {'sender_address': 'Alice3', 'recipient_address': 'Bob3', 'value': 13, 'data': 'Hello Bob3!'}, {'sender_address': 'Alice4', 'recipient_address': 'Bob4', 'value': 14, 'data': 'Hello Bob4!'}, {'sender_address': 'Alice5', 'recipient_address': 'Bob5', 'value': 15, 'data': 'Hello Bob5!'}], 'author': 'Satoshi4', 'timestamp': 1695472728.1000853, 'previous_hash': '0009536be4d48c7f1472f21751174e640a5ae2c84ef13a23a5357c901d0d39c2', 'nonce': 1059, 'hash': '000d2ec80b2edec789803a98c71c8af2a18b0b3f9f14008c573f1f4eeb88dc00'},\n",
       "  {'index': 93, 'transactions': [{'sender_address': 'Alice', 'recipient_address': 'Bob', 'value': 10, 'data': 'Hello Bob!'}, {'sender_address': 'Bob', 'recipient_address': 'Alice', 'value': 5, 'data': 'Hello Alice!'}, {'sender_address': 'Alice3', 'recipient_address': 'Bob3', 'value': 13, 'data': 'Hello Bob3!'}, {'sender_address': 'Alice4', 'recipient_address': 'Bob4', 'value': 14, 'data': 'Hello Bob4!'}, {'sender_address': 'Alice5', 'recipient_address': 'Bob5', 'value': 15, 'data': 'Hello Bob5!'}], 'author': 'Satoshi4', 'timestamp': 1695472729.2397134, 'previous_hash': '000d2ec80b2edec789803a98c71c8af2a18b0b3f9f14008c573f1f4eeb88dc00', 'nonce': 8921, 'hash': '000a0afe213cb05edc831167d14fbbeb99cec6cf2626d79a4abc7188e3312b8d'},\n",
       "  {'index': 94, 'transactions': [{'sender_address': 'Alice', 'recipient_address': 'Bob', 'value': 10, 'data': 'Hello Bob!'}, {'sender_address': 'Bob', 'recipient_address': 'Alice', 'value': 5, 'data': 'Hello Alice!'}, {'sender_address': 'Alice3', 'recipient_address': 'Bob3', 'value': 13, 'data': 'Hello Bob3!'}, {'sender_address': 'Alice4', 'recipient_address': 'Bob4', 'value': 14, 'data': 'Hello Bob4!'}, {'sender_address': 'Alice5', 'recipient_address': 'Bob5', 'value': 15, 'data': 'Hello Bob5!'}], 'author': 'Satoshi7', 'timestamp': 1695472731.401945, 'previous_hash': '000a0afe213cb05edc831167d14fbbeb99cec6cf2626d79a4abc7188e3312b8d', 'nonce': 13277, 'hash': '0006168e093dcb23e8eefa488e10a0c794d3bc32d4aa7c0ec9788926c6a33ca5'},\n",
       "  {'index': 95, 'transactions': [{'sender_address': 'Alice', 'recipient_address': 'Bob', 'value': 10, 'data': 'Hello Bob!'}, {'sender_address': 'Bob', 'recipient_address': 'Alice', 'value': 5, 'data': 'Hello Alice!'}, {'sender_address': 'Alice3', 'recipient_address': 'Bob3', 'value': 13, 'data': 'Hello Bob3!'}, {'sender_address': 'Alice4', 'recipient_address': 'Bob4', 'value': 14, 'data': 'Hello Bob4!'}, {'sender_address': 'Alice5', 'recipient_address': 'Bob5', 'value': 15, 'data': 'Hello Bob5!'}], 'author': 'Satoshi4', 'timestamp': 1695472733.671041, 'previous_hash': '0006168e093dcb23e8eefa488e10a0c794d3bc32d4aa7c0ec9788926c6a33ca5', 'nonce': 5833, 'hash': '000cef1c77619b88377aea68cfe7b5d391a57257a06e6366a19fca439ad5a8f9'},\n",
       "  {'index': 96, 'transactions': [{'sender_address': 'Alice', 'recipient_address': 'Bob', 'value': 10, 'data': 'Hello Bob!'}, {'sender_address': 'Bob', 'recipient_address': 'Alice', 'value': 5, 'data': 'Hello Alice!'}, {'sender_address': 'Alice3', 'recipient_address': 'Bob3', 'value': 13, 'data': 'Hello Bob3!'}, {'sender_address': 'Alice4', 'recipient_address': 'Bob4', 'value': 14, 'data': 'Hello Bob4!'}, {'sender_address': 'Alice5', 'recipient_address': 'Bob5', 'value': 15, 'data': 'Hello Bob5!'}], 'author': 'Satoshi5', 'timestamp': 1695472734.97633, 'previous_hash': '000cef1c77619b88377aea68cfe7b5d391a57257a06e6366a19fca439ad5a8f9', 'nonce': 12874, 'hash': '00078b600bdca4be36ae92d0354ddf62a822d487b16ac0df08b5566f3b51ef58'},\n",
       "  {'index': 97, 'transactions': [{'sender_address': 'Alice', 'recipient_address': 'Bob', 'value': 10, 'data': 'Hello Bob!'}, {'sender_address': 'Bob', 'recipient_address': 'Alice', 'value': 5, 'data': 'Hello Alice!'}, {'sender_address': 'Alice3', 'recipient_address': 'Bob3', 'value': 13, 'data': 'Hello Bob3!'}, {'sender_address': 'Alice4', 'recipient_address': 'Bob4', 'value': 14, 'data': 'Hello Bob4!'}, {'sender_address': 'Alice5', 'recipient_address': 'Bob5', 'value': 15, 'data': 'Hello Bob5!'}], 'author': 'Satoshi6', 'timestamp': 1695472736.4523897, 'previous_hash': '00078b600bdca4be36ae92d0354ddf62a822d487b16ac0df08b5566f3b51ef58', 'nonce': 4281, 'hash': '0006cdffdc6c5a07457bb16d06e07f20463c14065ac70467ee0dad95e0d29fbb'},\n",
       "  {'index': 98, 'transactions': [{'sender_address': 'Alice', 'recipient_address': 'Bob', 'value': 10, 'data': 'Hello Bob!'}, {'sender_address': 'Bob', 'recipient_address': 'Alice', 'value': 5, 'data': 'Hello Alice!'}, {'sender_address': 'Alice3', 'recipient_address': 'Bob3', 'value': 13, 'data': 'Hello Bob3!'}, {'sender_address': 'Alice4', 'recipient_address': 'Bob4', 'value': 14, 'data': 'Hello Bob4!'}, {'sender_address': 'Alice5', 'recipient_address': 'Bob5', 'value': 15, 'data': 'Hello Bob5!'}], 'author': 'Satoshi6', 'timestamp': 1695472738.201212, 'previous_hash': '0006cdffdc6c5a07457bb16d06e07f20463c14065ac70467ee0dad95e0d29fbb', 'nonce': 16146, 'hash': '0004534304a7c36ea93dbe133205b1325f8bf8a04508142e79eb46d7d34c45ca'},\n",
       "  {'index': 99, 'transactions': [{'sender_address': 'Alice', 'recipient_address': 'Bob', 'value': 10, 'data': 'Hello Bob!'}, {'sender_address': 'Bob', 'recipient_address': 'Alice', 'value': 5, 'data': 'Hello Alice!'}, {'sender_address': 'Alice3', 'recipient_address': 'Bob3', 'value': 13, 'data': 'Hello Bob3!'}, {'sender_address': 'Alice4', 'recipient_address': 'Bob4', 'value': 14, 'data': 'Hello Bob4!'}, {'sender_address': 'Alice5', 'recipient_address': 'Bob5', 'value': 15, 'data': 'Hello Bob5!'}], 'author': 'Satoshi5', 'timestamp': 1695472739.9435346, 'previous_hash': '0004534304a7c36ea93dbe133205b1325f8bf8a04508142e79eb46d7d34c45ca', 'nonce': 6410, 'hash': '00033994bb1bfc27fef0c239d442979eafcba32414d693d3a2400cb8979e3276'},\n",
       "  {'index': 100, 'transactions': [{'sender_address': 'Alice', 'recipient_address': 'Bob', 'value': 10, 'data': 'Hello Bob!'}, {'sender_address': 'Bob', 'recipient_address': 'Alice', 'value': 5, 'data': 'Hello Alice!'}, {'sender_address': 'Alice3', 'recipient_address': 'Bob3', 'value': 13, 'data': 'Hello Bob3!'}, {'sender_address': 'Alice4', 'recipient_address': 'Bob4', 'value': 14, 'data': 'Hello Bob4!'}, {'sender_address': 'Alice5', 'recipient_address': 'Bob5', 'value': 15, 'data': 'Hello Bob5!'}], 'author': 'Satoshi7', 'timestamp': 1695472741.064381, 'previous_hash': '00033994bb1bfc27fef0c239d442979eafcba32414d693d3a2400cb8979e3276', 'nonce': 7246, 'hash': '000f0cd45d066ad50bb661dfb69ce8bf53e4e9f41faa4407f765b8f9d64d00f0'}],\n",
       " 'current_mainnet_peer_name': 'Satoshi7',\n",
       " 'peers': ['Satoshi3', 'Satoshi4', 'Satoshi5', 'Satoshi6', 'Satoshi7']}"
      ]
     },
     "execution_count": 42,
     "metadata": {},
     "output_type": "execute_result"
    }
   ],
   "source": [
    "tr3 = Transaction(\n",
    "    sender_address = 'Alice3',\n",
    "    recipient_address = 'Bob3',\n",
    "    value = 13,\n",
    "    data = 'Hello Bob3!')\n",
    "\n",
    "tr4 = Transaction(\n",
    "    sender_address = 'Alice4',\n",
    "    recipient_address = 'Bob4',\n",
    "    value = 14,\n",
    "    data = 'Hello Bob4!')\n",
    "\n",
    "tr5 = Transaction(\n",
    "    sender_address = 'Alice5',\n",
    "    recipient_address = 'Bob5',\n",
    "    value = 15,\n",
    "    data = 'Hello Bob5!')\n",
    "\n",
    "peer3 = BlockchainPeer(\"Satoshi3\")\n",
    "peer4 = BlockchainPeer(\"Satoshi4\")\n",
    "peer5 = BlockchainPeer(\"Satoshi5\")\n",
    "peer6 = BlockchainPeer(\"Satoshi6\")\n",
    "peer7 = BlockchainPeer(\"Satoshi7\")\n",
    "peers = [peer3, peer4, peer5, peer6, peer7]\n",
    "mainnet = BlockchainMainnet(peers)\n",
    "\n",
    "for i in range(100):\n",
    "    for peer in peers:\n",
    "        peer.add_new_transaction(tr1)\n",
    "        peer.add_new_transaction(tr2)\n",
    "        peer.add_new_transaction(tr3)\n",
    "        peer.add_new_transaction(tr4)\n",
    "        peer.add_new_transaction(tr5)    \n",
    "\n",
    "    mainnet.run_mining()\n",
    "mainnet.get_chain()"
   ]
  },
  {
   "cell_type": "markdown",
   "id": "d6ff18b3",
   "metadata": {},
   "source": [
    "# Каждый раз больше всего блоков будет майнить один случайный peer из наших 5. Ни один из них не имеет преимущество над другими"
   ]
  },
  {
   "cell_type": "markdown",
   "id": "74ab3c97",
   "metadata": {},
   "source": [
    "# 5 Задание"
   ]
  },
  {
   "cell_type": "code",
   "execution_count": 69,
   "id": "e66514fb",
   "metadata": {},
   "outputs": [],
   "source": [
    "class FixedTimeBlockchainPeer(BlockchainPeer):\n",
    "    \n",
    "    def mine(self):\n",
    "        \"\"\"\n",
    "        This function serves as an interface to add the pending\n",
    "        transactions to the blockchain by adding them to the block\n",
    "        and figuring out Proof Of Work.\n",
    "        \"\"\"\n",
    "        \"\"\"\n",
    "        This function serves as an interface to add the pending\n",
    "        transactions to the blockchain by adding them to the block\n",
    "        and figuring out Proof Of Work.\n",
    "        \"\"\"\n",
    "        #logging.info(f\"{self.peer_name} | Start mining\")\n",
    "\n",
    "        if not self.unconfirmed_transactions:\n",
    "           # logging.info(f\"{self.peer_name} | No transactions to mine\")\n",
    "            return\n",
    "\n",
    "        last_block: Block = self.last_block\n",
    "        new_block = Block(\n",
    "            index=last_block.index + 1,\n",
    "            transactions=self.unconfirmed_transactions,\n",
    "            author=self.peer_name,\n",
    "            timestamp=0,\n",
    "            previous_hash=last_block.hash,\n",
    "            nonce=0,\n",
    "        )\n",
    "        proof = self.proof_of_work(new_block)\n",
    "        self.__add_block(new_block, proof)\n",
    "        self.unconfirmed_transactions = []\n",
    "        self._announce()\n",
    "       \n",
    "    def __add_block(self, block: Block, proof: str):\n",
    "        \"\"\"\n",
    "        A function that adds the block to the chain after verification.\n",
    "        Verification includes:\n",
    "        * Checking if the proof is valid.\n",
    "        * The previous_hash referred in the block and the hash of latest block\n",
    "          in the chain match.\n",
    "\n",
    "        Args:\n",
    "            block (Block): block to be added\n",
    "            proof (str): proof of work result\n",
    "        \"\"\"\n",
    "       # logging.info(f\"{self.peer_name} | Adding block {block.to_json()}\")\n",
    "\n",
    "        previous_hash = self.last_block.hash\n",
    "\n",
    "        if previous_hash != block.previous_hash:\n",
    "            #logging.error(f\"{self.peer_name} | Previous hash {previous_hash} != {block.previous_hash}\")\n",
    "            raise Exception(\"Invalid block\")\n",
    "\n",
    "        if not BlockchainPeer.is_valid_proof(block, proof):\n",
    "           # logging.error(f\"{self.peer_name} | Invalid proof {proof}\")\n",
    "            raise Exception(\"Invalid proof\")\n",
    "\n",
    "        block.hash = proof\n",
    "        self.chain.append(block)\n",
    "        #logging.info(f\"{self.peer_name} | Added block {block}\")"
   ]
  },
  {
   "cell_type": "code",
   "execution_count": 70,
   "id": "75d7d8dd",
   "metadata": {
    "scrolled": true
   },
   "outputs": [
    {
     "data": {
      "text/plain": [
       "{'length': 6,\n",
       " 'chain': [{'index': 0, 'transactions': [], 'author': 'Satoshi', 'timestamp': 0, 'previous_hash': '0', 'nonce': 7099, 'hash': '000162ecd764ac73c5367af8c9fa659bbf2a2e57684c0657d219327de59bcf70'},\n",
       "  {'index': 1, 'transactions': [{'sender_address': 'Alice', 'recipient_address': 'Bob', 'value': 10, 'data': 'Hello Bob!'}, {'sender_address': 'Bob', 'recipient_address': 'Alice', 'value': 5, 'data': 'Hello Alice!'}], 'author': 'Satoshi', 'timestamp': 0, 'previous_hash': '000162ecd764ac73c5367af8c9fa659bbf2a2e57684c0657d219327de59bcf70', 'nonce': 698, 'hash': '00082515d5ffc84f2f8426fe56db666a1ad2adf807cdee15758dbcd2eb59b458'},\n",
       "  {'index': 2, 'transactions': [{'sender_address': 'Alice', 'recipient_address': 'Bob', 'value': 10, 'data': 'Hello Bob!'}, {'sender_address': 'Bob', 'recipient_address': 'Alice', 'value': 5, 'data': 'Hello Alice!'}], 'author': 'Satoshi', 'timestamp': 0, 'previous_hash': '00082515d5ffc84f2f8426fe56db666a1ad2adf807cdee15758dbcd2eb59b458', 'nonce': 3180, 'hash': '0006f50ecfc1401ec851608600536b0ff3d5081c1832c4277aadf2a5bc3d7edb'},\n",
       "  {'index': 3, 'transactions': [{'sender_address': 'Alice', 'recipient_address': 'Bob', 'value': 10, 'data': 'Hello Bob!'}, {'sender_address': 'Bob', 'recipient_address': 'Alice', 'value': 5, 'data': 'Hello Alice!'}], 'author': 'Satoshi', 'timestamp': 0, 'previous_hash': '0006f50ecfc1401ec851608600536b0ff3d5081c1832c4277aadf2a5bc3d7edb', 'nonce': 508, 'hash': '000e69bd96b65c00653b4c59a5ece2f187578928460675c8317e8f91c74f8243'},\n",
       "  {'index': 4, 'transactions': [{'sender_address': 'Alice', 'recipient_address': 'Bob', 'value': 10, 'data': 'Hello Bob!'}, {'sender_address': 'Bob', 'recipient_address': 'Alice', 'value': 5, 'data': 'Hello Alice!'}], 'author': 'Satoshi', 'timestamp': 0, 'previous_hash': '000e69bd96b65c00653b4c59a5ece2f187578928460675c8317e8f91c74f8243', 'nonce': 2924, 'hash': '000f53dd44c6dd00a575e3f43b1a675812851a0df5d518555b026532f2772a32'},\n",
       "  {'index': 5, 'transactions': [{'sender_address': 'Alice', 'recipient_address': 'Bob', 'value': 10, 'data': 'Hello Bob!'}, {'sender_address': 'Bob', 'recipient_address': 'Alice', 'value': 5, 'data': 'Hello Alice!'}], 'author': 'Satoshi', 'timestamp': 0, 'previous_hash': '000f53dd44c6dd00a575e3f43b1a675812851a0df5d518555b026532f2772a32', 'nonce': 5613, 'hash': '0007d9fe9511d0226a5637655a6bf2110d12f2f5bfea888826c1aa5205196354'}],\n",
       " 'current_mainnet_peer_name': 'Satoshi',\n",
       " 'peers': ['Satoshi']}"
      ]
     },
     "execution_count": 70,
     "metadata": {},
     "output_type": "execute_result"
    }
   ],
   "source": [
    "peerr = FixedTimeBlockchainPeer('Satoshi')\n",
    "peers = [peerr]\n",
    "mainnet = BlockchainMainnet(peers)\n",
    "for i in range(5):\n",
    "    peerr.add_new_transaction(tr1)\n",
    "    peerr.add_new_transaction(tr2)\n",
    "    peerr.mine()\n",
    "mainnet.get_chain()\n",
    "    "
   ]
  },
  {
   "cell_type": "code",
   "execution_count": 86,
   "id": "275c5c43",
   "metadata": {},
   "outputs": [
    {
     "data": {
      "text/plain": [
       "'0007d9fe9511d0226a5637655a6bf2110d12f2f5bfea888826c1aa5205196354'"
      ]
     },
     "execution_count": 86,
     "metadata": {},
     "output_type": "execute_result"
    }
   ],
   "source": [
    "block2 = Block(\n",
    "    index = 5,\n",
    "    timestamp =  0,\n",
    "    previous_hash = peer1.proof_of_work(block1),\n",
    "    nonce = 0,\n",
    "    author = 'Satoshi',\n",
    "    transactions = [tr1,tr2])\n",
    "peerr.proof_of_work(block2)\n"
   ]
  },
  {
   "cell_type": "code",
   "execution_count": 79,
   "id": "4a374d08",
   "metadata": {},
   "outputs": [
    {
     "data": {
      "text/plain": [
       "'000f53dd44c6dd00a575e3f43b1a675812851a0df5d518555b026532f2772a32'"
      ]
     },
     "execution_count": 79,
     "metadata": {},
     "output_type": "execute_result"
    }
   ],
   "source": [
    "peerr.proof_of_work(block1)"
   ]
  },
  {
   "cell_type": "code",
   "execution_count": null,
   "id": "ed14558c",
   "metadata": {},
   "outputs": [],
   "source": []
  }
 ],
 "metadata": {
  "kernelspec": {
   "display_name": "Python 3 (ipykernel)",
   "language": "python",
   "name": "python3"
  },
  "language_info": {
   "codemirror_mode": {
    "name": "ipython",
    "version": 3
   },
   "file_extension": ".py",
   "mimetype": "text/x-python",
   "name": "python",
   "nbconvert_exporter": "python",
   "pygments_lexer": "ipython3",
   "version": "3.11.4"
  }
 },
 "nbformat": 4,
 "nbformat_minor": 5
}
